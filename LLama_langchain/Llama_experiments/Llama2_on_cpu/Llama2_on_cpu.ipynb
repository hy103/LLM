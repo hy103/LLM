{
 "cells": [
  {
   "cell_type": "code",
   "execution_count": 1,
   "metadata": {},
   "outputs": [
    {
     "name": "stdout",
     "output_type": "stream",
     "text": [
      "Cloning into 'Llama-2-on-CPU-Machine'...\n",
      "remote: Enumerating objects: 8, done.\u001b[K\n",
      "remote: Counting objects: 100% (8/8), done.\u001b[K\n",
      "remote: Compressing objects: 100% (7/7), done.\u001b[K\n",
      "remote: Total 8 (delta 1), reused 0 (delta 0), pack-reused 0\u001b[K\n",
      "Receiving objects: 100% (8/8), 30.27 KiB | 30.27 MiB/s, done.\n",
      "Resolving deltas: 100% (1/1), done.\n"
     ]
    }
   ],
   "source": [
    "!git clone https://github.com/Nagendra061192/Llama-2-on-CPU-Machine.git"
   ]
  },
  {
   "cell_type": "code",
   "execution_count": 2,
   "metadata": {},
   "outputs": [
    {
     "name": "stdout",
     "output_type": "stream",
     "text": [
      "Defaulting to user installation because normal site-packages is not writeable\n",
      "Requirement already satisfied: langchain in /Users/harshayarravarapu/Library/Python/3.9/lib/python/site-packages (0.2.3)\n",
      "Requirement already satisfied: PyYAML>=5.3 in /Users/harshayarravarapu/Library/Python/3.9/lib/python/site-packages (from langchain) (6.0)\n",
      "Requirement already satisfied: SQLAlchemy<3,>=1.4 in /Users/harshayarravarapu/Library/Python/3.9/lib/python/site-packages (from langchain) (2.0.30)\n",
      "Requirement already satisfied: aiohttp<4.0.0,>=3.8.3 in /Users/harshayarravarapu/Library/Python/3.9/lib/python/site-packages (from langchain) (3.8.3)\n",
      "Requirement already satisfied: async-timeout<5.0.0,>=4.0.0 in /Users/harshayarravarapu/Library/Python/3.9/lib/python/site-packages (from langchain) (4.0.2)\n",
      "Requirement already satisfied: langchain-core<0.3.0,>=0.2.0 in /Users/harshayarravarapu/Library/Python/3.9/lib/python/site-packages (from langchain) (0.2.5)\n",
      "Requirement already satisfied: langchain-text-splitters<0.3.0,>=0.2.0 in /Users/harshayarravarapu/Library/Python/3.9/lib/python/site-packages (from langchain) (0.2.1)\n",
      "Requirement already satisfied: langsmith<0.2.0,>=0.1.17 in /Users/harshayarravarapu/Library/Python/3.9/lib/python/site-packages (from langchain) (0.1.75)\n",
      "Requirement already satisfied: numpy<2,>=1 in /Users/harshayarravarapu/Library/Python/3.9/lib/python/site-packages (from langchain) (1.23.5)\n",
      "Requirement already satisfied: pydantic<3,>=1 in /Users/harshayarravarapu/Library/Python/3.9/lib/python/site-packages (from langchain) (1.10.14)\n",
      "Requirement already satisfied: requests<3,>=2 in /Users/harshayarravarapu/Library/Python/3.9/lib/python/site-packages (from langchain) (2.32.3)\n",
      "Requirement already satisfied: tenacity<9.0.0,>=8.1.0 in /Users/harshayarravarapu/Library/Python/3.9/lib/python/site-packages (from langchain) (8.2.2)\n",
      "Requirement already satisfied: attrs>=17.3.0 in /Users/harshayarravarapu/Library/Python/3.9/lib/python/site-packages (from aiohttp<4.0.0,>=3.8.3->langchain) (22.2.0)\n",
      "Requirement already satisfied: charset-normalizer<3.0,>=2.0 in /Users/harshayarravarapu/Library/Python/3.9/lib/python/site-packages (from aiohttp<4.0.0,>=3.8.3->langchain) (2.1.1)\n",
      "Requirement already satisfied: multidict<7.0,>=4.5 in /Users/harshayarravarapu/Library/Python/3.9/lib/python/site-packages (from aiohttp<4.0.0,>=3.8.3->langchain) (6.0.4)\n",
      "Requirement already satisfied: yarl<2.0,>=1.0 in /Users/harshayarravarapu/Library/Python/3.9/lib/python/site-packages (from aiohttp<4.0.0,>=3.8.3->langchain) (1.8.2)\n",
      "Requirement already satisfied: frozenlist>=1.1.1 in /Users/harshayarravarapu/Library/Python/3.9/lib/python/site-packages (from aiohttp<4.0.0,>=3.8.3->langchain) (1.3.3)\n",
      "Requirement already satisfied: aiosignal>=1.1.2 in /Users/harshayarravarapu/Library/Python/3.9/lib/python/site-packages (from aiohttp<4.0.0,>=3.8.3->langchain) (1.3.1)\n",
      "Requirement already satisfied: jsonpatch<2.0,>=1.33 in /Users/harshayarravarapu/Library/Python/3.9/lib/python/site-packages (from langchain-core<0.3.0,>=0.2.0->langchain) (1.33)\n",
      "Requirement already satisfied: packaging<24.0,>=23.2 in /Users/harshayarravarapu/Library/Python/3.9/lib/python/site-packages (from langchain-core<0.3.0,>=0.2.0->langchain) (23.2)\n",
      "Requirement already satisfied: orjson<4.0.0,>=3.9.14 in /Users/harshayarravarapu/Library/Python/3.9/lib/python/site-packages (from langsmith<0.2.0,>=0.1.17->langchain) (3.10.4)\n",
      "Requirement already satisfied: typing-extensions>=4.2.0 in /Users/harshayarravarapu/Library/Python/3.9/lib/python/site-packages (from pydantic<3,>=1->langchain) (4.10.0)\n",
      "Requirement already satisfied: idna<4,>=2.5 in /Users/harshayarravarapu/Library/Python/3.9/lib/python/site-packages (from requests<3,>=2->langchain) (3.4)\n",
      "Requirement already satisfied: urllib3<3,>=1.21.1 in /Users/harshayarravarapu/Library/Python/3.9/lib/python/site-packages (from requests<3,>=2->langchain) (2.2.1)\n",
      "Requirement already satisfied: certifi>=2017.4.17 in /Users/harshayarravarapu/Library/Python/3.9/lib/python/site-packages (from requests<3,>=2->langchain) (2022.12.7)\n",
      "Requirement already satisfied: jsonpointer>=1.9 in /Users/harshayarravarapu/Library/Python/3.9/lib/python/site-packages (from jsonpatch<2.0,>=1.33->langchain-core<0.3.0,>=0.2.0->langchain) (2.3)\n",
      "Defaulting to user installation because normal site-packages is not writeable\n",
      "Collecting CTransformers\n",
      "  Downloading ctransformers-0.2.27-py3-none-any.whl.metadata (17 kB)\n",
      "Requirement already satisfied: huggingface-hub in /Users/harshayarravarapu/Library/Python/3.9/lib/python/site-packages (from CTransformers) (0.21.4)\n",
      "Collecting py-cpuinfo<10.0.0,>=9.0.0 (from CTransformers)\n",
      "  Downloading py_cpuinfo-9.0.0-py3-none-any.whl.metadata (794 bytes)\n",
      "Requirement already satisfied: filelock in /Users/harshayarravarapu/Library/Python/3.9/lib/python/site-packages (from huggingface-hub->CTransformers) (3.13.1)\n",
      "Requirement already satisfied: fsspec>=2023.5.0 in /Users/harshayarravarapu/Library/Python/3.9/lib/python/site-packages (from huggingface-hub->CTransformers) (2024.3.1)\n",
      "Requirement already satisfied: requests in /Users/harshayarravarapu/Library/Python/3.9/lib/python/site-packages (from huggingface-hub->CTransformers) (2.32.3)\n",
      "Requirement already satisfied: tqdm>=4.42.1 in /Users/harshayarravarapu/Library/Python/3.9/lib/python/site-packages (from huggingface-hub->CTransformers) (4.64.1)\n",
      "Requirement already satisfied: pyyaml>=5.1 in /Users/harshayarravarapu/Library/Python/3.9/lib/python/site-packages (from huggingface-hub->CTransformers) (6.0)\n",
      "Requirement already satisfied: typing-extensions>=3.7.4.3 in /Users/harshayarravarapu/Library/Python/3.9/lib/python/site-packages (from huggingface-hub->CTransformers) (4.10.0)\n",
      "Requirement already satisfied: packaging>=20.9 in /Users/harshayarravarapu/Library/Python/3.9/lib/python/site-packages (from huggingface-hub->CTransformers) (23.2)\n",
      "Requirement already satisfied: charset-normalizer<4,>=2 in /Users/harshayarravarapu/Library/Python/3.9/lib/python/site-packages (from requests->huggingface-hub->CTransformers) (2.1.1)\n",
      "Requirement already satisfied: idna<4,>=2.5 in /Users/harshayarravarapu/Library/Python/3.9/lib/python/site-packages (from requests->huggingface-hub->CTransformers) (3.4)\n",
      "Requirement already satisfied: urllib3<3,>=1.21.1 in /Users/harshayarravarapu/Library/Python/3.9/lib/python/site-packages (from requests->huggingface-hub->CTransformers) (2.2.1)\n",
      "Requirement already satisfied: certifi>=2017.4.17 in /Users/harshayarravarapu/Library/Python/3.9/lib/python/site-packages (from requests->huggingface-hub->CTransformers) (2022.12.7)\n",
      "Downloading ctransformers-0.2.27-py3-none-any.whl (9.9 MB)\n",
      "\u001b[2K   \u001b[90m━━━━━━━━━━━━━━━━━━━━━━━━━━━━━━━━━━━━━━━━\u001b[0m \u001b[32m9.9/9.9 MB\u001b[0m \u001b[31m23.0 MB/s\u001b[0m eta \u001b[36m0:00:00\u001b[0m00:01\u001b[0m00:01\u001b[0m\n",
      "\u001b[?25hDownloading py_cpuinfo-9.0.0-py3-none-any.whl (22 kB)\n",
      "Installing collected packages: py-cpuinfo, CTransformers\n",
      "Successfully installed CTransformers-0.2.27 py-cpuinfo-9.0.0\n",
      "Defaulting to user installation because normal site-packages is not writeable\n",
      "Requirement already satisfied: pypdf in /Users/harshayarravarapu/Library/Python/3.9/lib/python/site-packages (4.2.0)\n",
      "Requirement already satisfied: typing_extensions>=4.0 in /Users/harshayarravarapu/Library/Python/3.9/lib/python/site-packages (from pypdf) (4.10.0)\n",
      "Defaulting to user installation because normal site-packages is not writeable\n",
      "Collecting sentence-transformers\n",
      "  Downloading sentence_transformers-3.0.1-py3-none-any.whl.metadata (10 kB)\n",
      "Requirement already satisfied: transformers<5.0.0,>=4.34.0 in /Users/harshayarravarapu/Library/Python/3.9/lib/python/site-packages (from sentence-transformers) (4.39.0)\n",
      "Requirement already satisfied: tqdm in /Users/harshayarravarapu/Library/Python/3.9/lib/python/site-packages (from sentence-transformers) (4.64.1)\n",
      "Requirement already satisfied: torch>=1.11.0 in /Users/harshayarravarapu/Library/Python/3.9/lib/python/site-packages (from sentence-transformers) (2.2.2)\n",
      "Requirement already satisfied: numpy in /Users/harshayarravarapu/Library/Python/3.9/lib/python/site-packages (from sentence-transformers) (1.23.5)\n",
      "Requirement already satisfied: scikit-learn in /Users/harshayarravarapu/Library/Python/3.9/lib/python/site-packages (from sentence-transformers) (1.3.0)\n",
      "Requirement already satisfied: scipy in /Users/harshayarravarapu/Library/Python/3.9/lib/python/site-packages (from sentence-transformers) (1.9.3)\n",
      "Requirement already satisfied: huggingface-hub>=0.15.1 in /Users/harshayarravarapu/Library/Python/3.9/lib/python/site-packages (from sentence-transformers) (0.21.4)\n",
      "Requirement already satisfied: Pillow in /Users/harshayarravarapu/Library/Python/3.9/lib/python/site-packages (from sentence-transformers) (9.3.0)\n",
      "Requirement already satisfied: filelock in /Users/harshayarravarapu/Library/Python/3.9/lib/python/site-packages (from huggingface-hub>=0.15.1->sentence-transformers) (3.13.1)\n",
      "Requirement already satisfied: fsspec>=2023.5.0 in /Users/harshayarravarapu/Library/Python/3.9/lib/python/site-packages (from huggingface-hub>=0.15.1->sentence-transformers) (2024.3.1)\n",
      "Requirement already satisfied: requests in /Users/harshayarravarapu/Library/Python/3.9/lib/python/site-packages (from huggingface-hub>=0.15.1->sentence-transformers) (2.32.3)\n",
      "Requirement already satisfied: pyyaml>=5.1 in /Users/harshayarravarapu/Library/Python/3.9/lib/python/site-packages (from huggingface-hub>=0.15.1->sentence-transformers) (6.0)\n",
      "Requirement already satisfied: typing-extensions>=3.7.4.3 in /Users/harshayarravarapu/Library/Python/3.9/lib/python/site-packages (from huggingface-hub>=0.15.1->sentence-transformers) (4.10.0)\n",
      "Requirement already satisfied: packaging>=20.9 in /Users/harshayarravarapu/Library/Python/3.9/lib/python/site-packages (from huggingface-hub>=0.15.1->sentence-transformers) (23.2)\n",
      "Requirement already satisfied: sympy in /Users/harshayarravarapu/Library/Python/3.9/lib/python/site-packages (from torch>=1.11.0->sentence-transformers) (1.11.1)\n",
      "Requirement already satisfied: networkx in /Users/harshayarravarapu/Library/Python/3.9/lib/python/site-packages (from torch>=1.11.0->sentence-transformers) (3.0)\n",
      "Requirement already satisfied: jinja2 in /Users/harshayarravarapu/Library/Python/3.9/lib/python/site-packages (from torch>=1.11.0->sentence-transformers) (3.1.2)\n",
      "Requirement already satisfied: regex!=2019.12.17 in /Users/harshayarravarapu/Library/Python/3.9/lib/python/site-packages (from transformers<5.0.0,>=4.34.0->sentence-transformers) (2023.3.23)\n",
      "Requirement already satisfied: tokenizers<0.19,>=0.14 in /Users/harshayarravarapu/Library/Python/3.9/lib/python/site-packages (from transformers<5.0.0,>=4.34.0->sentence-transformers) (0.15.2)\n",
      "Requirement already satisfied: safetensors>=0.4.1 in /Users/harshayarravarapu/Library/Python/3.9/lib/python/site-packages (from transformers<5.0.0,>=4.34.0->sentence-transformers) (0.4.2)\n",
      "Requirement already satisfied: joblib>=1.1.1 in /Users/harshayarravarapu/Library/Python/3.9/lib/python/site-packages (from scikit-learn->sentence-transformers) (1.2.0)\n",
      "Requirement already satisfied: threadpoolctl>=2.0.0 in /Users/harshayarravarapu/Library/Python/3.9/lib/python/site-packages (from scikit-learn->sentence-transformers) (3.1.0)\n",
      "Requirement already satisfied: MarkupSafe>=2.0 in /Users/harshayarravarapu/Library/Python/3.9/lib/python/site-packages (from jinja2->torch>=1.11.0->sentence-transformers) (2.1.2)\n",
      "Requirement already satisfied: charset-normalizer<4,>=2 in /Users/harshayarravarapu/Library/Python/3.9/lib/python/site-packages (from requests->huggingface-hub>=0.15.1->sentence-transformers) (2.1.1)\n",
      "Requirement already satisfied: idna<4,>=2.5 in /Users/harshayarravarapu/Library/Python/3.9/lib/python/site-packages (from requests->huggingface-hub>=0.15.1->sentence-transformers) (3.4)\n",
      "Requirement already satisfied: urllib3<3,>=1.21.1 in /Users/harshayarravarapu/Library/Python/3.9/lib/python/site-packages (from requests->huggingface-hub>=0.15.1->sentence-transformers) (2.2.1)\n",
      "Requirement already satisfied: certifi>=2017.4.17 in /Users/harshayarravarapu/Library/Python/3.9/lib/python/site-packages (from requests->huggingface-hub>=0.15.1->sentence-transformers) (2022.12.7)\n",
      "Requirement already satisfied: mpmath>=0.19 in /Users/harshayarravarapu/Library/Python/3.9/lib/python/site-packages (from sympy->torch>=1.11.0->sentence-transformers) (1.2.1)\n",
      "Downloading sentence_transformers-3.0.1-py3-none-any.whl (227 kB)\n",
      "\u001b[2K   \u001b[90m━━━━━━━━━━━━━━━━━━━━━━━━━━━━━━━━━━━━━━━━\u001b[0m \u001b[32m227.1/227.1 kB\u001b[0m \u001b[31m3.8 MB/s\u001b[0m eta \u001b[36m0:00:00\u001b[0m \u001b[36m0:00:01\u001b[0m\n",
      "\u001b[?25hInstalling collected packages: sentence-transformers\n",
      "Successfully installed sentence-transformers-3.0.1\n",
      "Defaulting to user installation because normal site-packages is not writeable\n",
      "Collecting faiss-cpu\n",
      "  Downloading faiss_cpu-1.8.0-cp39-cp39-macosx_11_0_arm64.whl.metadata (3.6 kB)\n",
      "Requirement already satisfied: numpy in /Users/harshayarravarapu/Library/Python/3.9/lib/python/site-packages (from faiss-cpu) (1.23.5)\n",
      "Downloading faiss_cpu-1.8.0-cp39-cp39-macosx_11_0_arm64.whl (3.1 MB)\n",
      "\u001b[2K   \u001b[90m━━━━━━━━━━━━━━━━━━━━━━━━━━━━━━━━━━━━━━━━\u001b[0m \u001b[32m3.1/3.1 MB\u001b[0m \u001b[31m3.6 MB/s\u001b[0m eta \u001b[36m0:00:00\u001b[0ma \u001b[36m0:00:01\u001b[0m\n",
      "\u001b[?25hInstalling collected packages: faiss-cpu\n",
      "Successfully installed faiss-cpu-1.8.0\n"
     ]
    }
   ],
   "source": [
    "import os\n",
    "from pathlib import Path\n",
    "import logging\n",
    "!pip install langchain\n",
    "!pip install CTransformers\n",
    "!pip install pypdf\n",
    "!pip install sentence-transformers\n",
    "!pip install faiss-cpu"
   ]
  },
  {
   "cell_type": "code",
   "execution_count": 3,
   "metadata": {},
   "outputs": [],
   "source": [
    "logging.basicConfig(level=logging.INFO, format='[%(asctime)s]:%(message)s:')"
   ]
  },
  {
   "cell_type": "code",
   "execution_count": 4,
   "metadata": {},
   "outputs": [
    {
     "name": "stderr",
     "output_type": "stream",
     "text": [
      "[2024-06-11 13:11:50,665]:creating directory; src for the file:_init_.py:\n",
      "[2024-06-11 13:11:50,667]:creating empty file: src/_init_.py:\n",
      "[2024-06-11 13:11:50,668]:creating directory; src for the file:run_local.py:\n",
      "[2024-06-11 13:11:50,669]:creating empty file: src/run_local.py:\n",
      "[2024-06-11 13:11:50,670]:creating directory; src for the file:helper.py:\n",
      "[2024-06-11 13:11:50,671]:creating empty file: src/helper.py:\n",
      "[2024-06-11 13:11:50,672]:creating directory; model for the file:instruction.txt:\n",
      "[2024-06-11 13:11:50,674]:creating empty file: model/instruction.txt:\n",
      "[2024-06-11 13:11:50,675]:creating empty file: requirements.txt:\n",
      "[2024-06-11 13:11:50,676]:creating empty file: setup.py:\n",
      "[2024-06-11 13:11:50,678]:creating empty file: main.py:\n",
      "[2024-06-11 13:11:50,679]:creating directory; research for the file:trials.ipynb:\n",
      "[2024-06-11 13:11:50,681]:creating empty file: research/trials.ipynb:\n"
     ]
    }
   ],
   "source": [
    "list_of_files = [\n",
    "    \"src/_init_.py\",\n",
    "    \"src/run_local.py\",\n",
    "    \"src/helper.py\",\n",
    "    \"model/instruction.txt\",\n",
    "    \"requirements.txt\",\n",
    "    \"setup.py\",\n",
    "    \"main.py\",\n",
    "    \"research/trials.ipynb\",\n",
    "    ]\n",
    "\n",
    "\n",
    "\n",
    "\n",
    "for filepath in list_of_files:\n",
    "  filepath=Path(filepath)\n",
    "  filedir,filename = os.path.split(filepath)\n",
    "\n",
    "\n",
    "\n",
    "  if filedir !=\"\":\n",
    "    os.makedirs(filedir, exist_ok=True)\n",
    "    logging.info(f\"creating directory; {filedir} for the file:{filename}\")\n",
    "\n",
    "  if (not os.path.exists(filepath)) or (os.path.getsize(filepath)==0):\n",
    "    with open (filepath,\"w\") as f:\n",
    "      pass\n",
    "      logging.info(f\"creating empty file: {filepath}\")\n",
    "\n",
    "  else:\n",
    "      logging.info(f\"{filename} is already exists\")\n",
    "     "
   ]
  },
  {
   "cell_type": "code",
   "execution_count": 5,
   "metadata": {},
   "outputs": [
    {
     "name": "stdout",
     "output_type": "stream",
     "text": [
      "Defaulting to user installation because normal site-packages is not writeable\n"
     ]
    }
   ],
   "source": [
    "!pip install -r requirements.txt"
   ]
  },
  {
   "cell_type": "code",
   "execution_count": 6,
   "metadata": {},
   "outputs": [
    {
     "name": "stderr",
     "output_type": "stream",
     "text": [
      "/Users/harshayarravarapu/Library/Python/3.9/lib/python/site-packages/urllib3/__init__.py:35: NotOpenSSLWarning: urllib3 v2 only supports OpenSSL 1.1.1+, currently the 'ssl' module is compiled with 'LibreSSL 2.8.3'. See: https://github.com/urllib3/urllib3/issues/3020\n",
      "  warnings.warn(\n"
     ]
    }
   ],
   "source": [
    "from langchain import PromptTemplate\n",
    "from langchain import LLMChain\n",
    "from langchain.llms import CTransformers\n",
    "\n",
    "\n",
    "B_INST,E_INST= \"[INST]\",\"[/INST]\"\n",
    "B_SYS, E_SYS= \"<>\\n\",\"\\n<>\\n\\n\""
   ]
  },
  {
   "cell_type": "code",
   "execution_count": 7,
   "metadata": {},
   "outputs": [],
   "source": [
    "DEFAULT_SYSTEM_PROMPT=\"\"\"\\\n",
    "You are a helpful, respectful and honest assistant. Always answer as helpfully as possible, while being safe.\n",
    "Your answers should not include any harmful, unethical, racist, sexist, toxic, dangerous, or illegal content.\n",
    "Please ensure that your responses are socially unbiased and positive in nature.\n",
    "If a question does not make any sense, or is not factually coherent, explain why instead of\n",
    "answering something not correct. If you don't know the answer to a question,\n",
    "please don't share false information.\"\"\""
   ]
  },
  {
   "cell_type": "code",
   "execution_count": 8,
   "metadata": {},
   "outputs": [],
   "source": [
    "instruction=\"convert the following text from english to french:\\n\\n {text} \""
   ]
  },
  {
   "cell_type": "code",
   "execution_count": 9,
   "metadata": {},
   "outputs": [],
   "source": [
    "\n",
    "SYSTEM_PROMPT= B_SYS+DEFAULT_SYSTEM_PROMPT+E_SYS\n",
    "template= B_INST+SYSTEM_PROMPT+instruction+E_INST"
   ]
  },
  {
   "cell_type": "code",
   "execution_count": 10,
   "metadata": {},
   "outputs": [
    {
     "data": {
      "application/vnd.jupyter.widget-view+json": {
       "model_id": "f984bbbfdf43458b8a7a658c6678bc3b",
       "version_major": 2,
       "version_minor": 0
      },
      "text/plain": [
       "Fetching 1 files:   0%|          | 0/1 [00:00<?, ?it/s]"
      ]
     },
     "metadata": {},
     "output_type": "display_data"
    },
    {
     "data": {
      "application/vnd.jupyter.widget-view+json": {
       "model_id": "773a3f2e57914d1cba915298c7538f94",
       "version_major": 2,
       "version_minor": 0
      },
      "text/plain": [
       "config.json:   0%|          | 0.00/29.0 [00:00<?, ?B/s]"
      ]
     },
     "metadata": {},
     "output_type": "display_data"
    },
    {
     "data": {
      "application/vnd.jupyter.widget-view+json": {
       "model_id": "26960340679945b1b1c5e3af127f93bb",
       "version_major": 2,
       "version_minor": 0
      },
      "text/plain": [
       "Fetching 1 files:   0%|          | 0/1 [00:00<?, ?it/s]"
      ]
     },
     "metadata": {},
     "output_type": "display_data"
    },
    {
     "data": {
      "application/vnd.jupyter.widget-view+json": {
       "model_id": "ae455bf22238457f8983cd5b683b10f1",
       "version_major": 2,
       "version_minor": 0
      },
      "text/plain": [
       "llama-2-7b-chat.Q2_K.gguf:   0%|          | 0.00/2.83G [00:00<?, ?B/s]"
      ]
     },
     "metadata": {},
     "output_type": "display_data"
    }
   ],
   "source": [
    "llm=CTransformers(model= \"TheBloke/Llama-2-7B-Chat-GGUF\",\n",
    "                  model_type=\"llama\",\n",
    "                  config={\"max_new_tokens\":128,\n",
    "                          \"temperature\":0.01}\n",
    "                  )"
   ]
  },
  {
   "cell_type": "code",
   "execution_count": 11,
   "metadata": {},
   "outputs": [
    {
     "name": "stderr",
     "output_type": "stream",
     "text": [
      "/Users/harshayarravarapu/Library/Python/3.9/lib/python/site-packages/langchain_core/_api/deprecation.py:119: LangChainDeprecationWarning: The class `LLMChain` was deprecated in LangChain 0.1.17 and will be removed in 0.3.0. Use RunnableSequence, e.g., `prompt | llm` instead.\n",
      "  warn_deprecated(\n"
     ]
    }
   ],
   "source": [
    "prompt=PromptTemplate(template=template, input_variables=[\"text\"])\n",
    "LLM_Chain=LLMChain(prompt=prompt, llm=llm)"
   ]
  },
  {
   "cell_type": "code",
   "execution_count": 12,
   "metadata": {},
   "outputs": [
    {
     "name": "stderr",
     "output_type": "stream",
     "text": [
      "/Users/harshayarravarapu/Library/Python/3.9/lib/python/site-packages/langchain_core/_api/deprecation.py:119: LangChainDeprecationWarning: The method `Chain.run` was deprecated in langchain 0.1.0 and will be removed in 0.3.0. Use invoke instead.\n",
      "  warn_deprecated(\n"
     ]
    },
    {
     "name": "stdout",
     "output_type": "stream",
     "text": [
      "  Bonjour! Comment vas-tu? (How are you?)\n"
     ]
    }
   ],
   "source": [
    "print(LLM_Chain.run(\"How are you?\"))"
   ]
  },
  {
   "cell_type": "code",
   "execution_count": 14,
   "metadata": {},
   "outputs": [],
   "source": [
    "CUSTOM_SYSTEM_PROMPT=\"\"\"\\\n",
    "You are an advanced assistant that provides translation from English to Hindi language.\"\"\""
   ]
  },
  {
   "cell_type": "code",
   "execution_count": 15,
   "metadata": {},
   "outputs": [],
   "source": [
    "\n",
    "instruction=\"convert the following text from English to Hindi:\\n\\n {text} \""
   ]
  },
  {
   "cell_type": "code",
   "execution_count": 16,
   "metadata": {},
   "outputs": [],
   "source": [
    "\n",
    "SYSTEM_PROMPT= B_SYS+CUSTOM_SYSTEM_PROMPT+E_SYS\n",
    "template= B_INST+SYSTEM_PROMPT+instruction+E_INST"
   ]
  },
  {
   "cell_type": "code",
   "execution_count": 17,
   "metadata": {},
   "outputs": [],
   "source": [
    "prompt=PromptTemplate(template=template, input_variables=[\"text\"])"
   ]
  },
  {
   "cell_type": "code",
   "execution_count": 18,
   "metadata": {},
   "outputs": [],
   "source": [
    "LLM_Chain=LLMChain(prompt=prompt, llm=llm)"
   ]
  },
  {
   "cell_type": "code",
   "execution_count": 19,
   "metadata": {},
   "outputs": [
    {
     "name": "stdout",
     "output_type": "stream",
     "text": [
      "  Sure, I'd be happy to help! Here is the translation of \"How are you?\" in Hindi:\n",
      "\n",
      "उत्‍कृTS (Utkarsh)\n",
      "\n",
      "Note: In Hindi, the word order is different from English. The verb \"are\" is changed to \"aap\" and the pronoun \"you\" is changed to \"उत्‍कृTS\".\n"
     ]
    }
   ],
   "source": [
    "print(LLM_Chain.run(\"How are you?\"))"
   ]
  },
  {
   "cell_type": "code",
   "execution_count": 20,
   "metadata": {},
   "outputs": [],
   "source": [
    "\n",
    "CUSTOM_SYSTEM_PROMPT=\"\"\"\\\n",
    "You are an advanced assistant that provides summarization given any book name.\"\"\""
   ]
  },
  {
   "cell_type": "code",
   "execution_count": 21,
   "metadata": {},
   "outputs": [],
   "source": [
    "instruction=\"Provide a summary of the book given book name:\\n\\n {text} \""
   ]
  },
  {
   "cell_type": "code",
   "execution_count": 22,
   "metadata": {},
   "outputs": [],
   "source": [
    "\n",
    "SYSTEM_PROMPT= B_SYS+CUSTOM_SYSTEM_PROMPT+E_SYS\n",
    "template= B_INST+SYSTEM_PROMPT+instruction+E_INST"
   ]
  },
  {
   "cell_type": "code",
   "execution_count": 23,
   "metadata": {},
   "outputs": [],
   "source": [
    "\n",
    "prompt=PromptTemplate(template=template, input_variables=[\"text\"])"
   ]
  },
  {
   "cell_type": "code",
   "execution_count": 24,
   "metadata": {},
   "outputs": [],
   "source": [
    "LLM_Chain=LLMChain(prompt=prompt, llm=llm)"
   ]
  },
  {
   "cell_type": "code",
   "execution_count": 25,
   "metadata": {},
   "outputs": [
    {
     "name": "stdout",
     "output_type": "stream",
     "text": [
      "  Certainly! Here's a brief summary of the book \"Harry Potter\" by J.K. Rowling:\n",
      "\n",
      "The story follows the adventures of a young wizard named Harry Potter, who discovers that he is the son of two powerful wizards who were killed by the dark wizard, Lord Voldemort. Harry learns that he has been chosen to attend Hogwarts School of Witchcraft and Wizardry, where he makes friends with Ron Weasley and Hermione Granger.\n",
      "\n",
      "Throughout the series, Harry and his friends face various challeng\n"
     ]
    }
   ],
   "source": [
    "\n",
    "print(LLM_Chain.run(\"Harry Potter\"))"
   ]
  },
  {
   "cell_type": "markdown",
   "metadata": {},
   "source": [
    "# API "
   ]
  },
  {
   "cell_type": "code",
   "execution_count": 28,
   "metadata": {},
   "outputs": [],
   "source": [
    "\n",
    "from langchain import PromptTemplate\n",
    "from langchain.chains import RetrievalQA\n",
    "from langchain.embeddings import HuggingFaceEmbeddings\n",
    "from langchain.vectorstores import FAISS\n",
    "from langchain.document_loaders import PyPDFLoader,DirectoryLoader\n",
    "from langchain.text_splitter import RecursiveCharacterTextSplitter\n",
    "from langchain.llms import CTransformers\n",
    "from src.helper import *\n",
    "from flask import Flask,render_template,jsonify,request"
   ]
  },
  {
   "cell_type": "code",
   "execution_count": 29,
   "metadata": {},
   "outputs": [],
   "source": [
    "\n",
    "app = Flask(__name__)"
   ]
  },
  {
   "cell_type": "code",
   "execution_count": 32,
   "metadata": {},
   "outputs": [],
   "source": [
    "\n",
    "loader=DirectoryLoader(\"/\",\n",
    "                       glob=\"software_engineering_interview_questions.pdf\",\n",
    "                       loader_cls=PyPDFLoader)"
   ]
  },
  {
   "cell_type": "code",
   "execution_count": 40,
   "metadata": {},
   "outputs": [
    {
     "name": "stdout",
     "output_type": "stream",
     "text": [
      "Found PDF file at: /Users/harshayarravarapu/Documents/GitHub/LLM/LLama_langchain/Llama_experiments/Llama2_on_cpu/software_engineering_interview_questions.pdf\n",
      "page_content='http://www.tutorialspoint.com/software_engineering/software_engineering_interview_questions.htm\\nCopyright © tutorialspoint.com\\nSOFTWARE ENGINEERING INTERVIEW QUESTIONS\\nSOFTWARE ENGINEERING INTERVIEW QUESTIONS\\nDear readers, these \\nSoftware Engineering Interview Questions\\n have been designed\\nespecially to get you acquainted with the nature of questions you may encounter during your\\ninterview for the subject of \\nSoftware Engineering\\n. As per my experience, good interviewers\\nhardly planned to ask any particular question during your interview, normally questions start with\\nsome basic concept of the subject and later they continue based on further discussion and what\\nyou answer:\\nQ.What is computer software?\\nA.\\n Computer software is a complete package, which includes software program, its documentation\\nand user guide on how to use the software.\\nQ.Can you differentiate computer software and computer program?\\nA.\\n A computer program is piece of programming code which performs a well defined task where\\nas software includes programming code, its documentation and user guide.\\nQ.What is software engineering?\\nA.\\n Software engineering is an engineering branch associated with software system development.\\nQ.When you know programming, what is the need to learn software engineering\\nconcepts?\\nA.\\n A person who knows how to build a wall may not be good at building an entire house. \\nLikewise,\\na person who can write programs may not have knowledge of other concepts of Software\\nEngineering. \\nThe software engineering concepts guide programmers on how to assess\\nrequirements of end user, design the algorithms before actual coding starts, create programs by\\ncoding, testing the code and its documentation.\\nQ.What is software process or Software Development Life Cycle \\nS\\nD\\nL\\nC\\n?\\nA.\\nSoftware Development Life Cycle, or software process is the systematic development of\\nsoftware by following every stage in the development process namely, Requirement Gathering,\\nSystem Analysis, Design, Coding, Testing, Maintenance and Documentation in that order.\\nQ.What are SDLC models available?\\nA.\\n There are several SDLC models available such as Waterfall Model, Iterative Model, Spiral\\nmodel, V-model and Big-bang Model etc.\\nQ.What are various phases of SDLC?\\nA.\\n The generic phases of SDLC are: Requirement Gathering, System Analysis and Design, Coding,\\nTesting and implementation. The phases depend upon the model we choose to develop software.\\nQ.Which SDLC model is the best?\\nA.\\n SDLC Models are adopted as per requirements of development process. \\nIt may very software-\\nto-software to ensuring which model is suitable.\\nWe can select the best SDLC model if following answers are satisfied -\\nIs SDLC suitable for selected technology to implement the software ?\\nIs SDLC appropriate for client’s requirements and priorities ?\\nIs SDLC model suitable for size and complexity of the software ?\\nIs the SDLC model suitable for type of projects and engineering we do ?\\nIs the SDLC appropriate for the geographically co-located or dispersed developers ?' metadata={'source': '/Users/harshayarravarapu/Documents/GitHub/LLM/LLama_langchain/Llama_experiments/Llama2_on_cpu/software_engineering_interview_questions.pdf', 'page': 0}\n",
      "page_content='Q.What is software project management?\\nA.\\n Software project management is process of managing all activities like time, cost and quality\\nmanagement involved in software development.\\nQ.Who is software project manager?\\nA. \\nA software project manager is a person who undertakes the responsibility of carrying out the\\nsoftware project.\\nQ.What does software project manager do?\\nA. \\nSoftware project manager is engaged with software management activities. He is responsible\\nfor \\nproject planning, monitoring the progress, communication among stakeholders, managing\\nrisks and resources, smooth execution of development and delivering the project within time, cost\\nand quality contraints.\\nQ.What is software scope?\\nA.\\n \\nSoftware scope is a well-defined boundary, which encompasses all the activities that are done\\nto develop and deliver the software product.\\nThe software scope clearly defines all functionalities and artifacts to be delivered as a part of the\\nsoftware. The scope identifies what the product will do and what it will not do, what the end product\\nwill contain and what it will not contain.\\nQ.What is project estimation?\\nA.\\n It is a process to estimate various aspects of software product in order to calculate the cost of\\ndevelopment in terms of efforts, time and resources. This estimation can be derived from past\\nexperience, by consulting experts or by using pre-defined formulas.\\nQ.How can we derive the size of software product?\\nA.\\n \\nSize of software product can be calculated using either of two methods -\\nCounting the lines of delivered code\\nCounting delivered function points\\nQ.What are function points?\\nA.\\n \\nFunction points are the various features provided by the software product. \\nIt is considered as a\\nunit of measurement for software size.\\nQ.What are software project estimation techniques available?\\nA.\\n There are many estimation techniques available.The most widely used are -\\nDecomposition technique \\nC\\no\\nu\\nn\\nt\\ni\\nn\\ng\\nL\\ni\\nn\\ne\\ns\\no\\nf\\nC\\no\\nd\\ne\\na\\nn\\nd\\nF\\nu\\nn\\nc\\nt\\ni\\no\\nn\\nP\\no\\ni\\nn\\nt\\ns\\nEmpirical technique \\nP\\nu\\nt\\nn\\na\\nm\\na\\nn\\nd\\nC\\nO\\nC\\nO\\nM\\nO\\n.\\nQ.What is baseline?\\nA.\\n Baseline is a measurement that defines completeness of a phase. After all activities associated\\nwith a particular phase are \\naccomplished, the phase is complete and acts as a baseline for next\\nphase.\\nQ.What is Software configuration management?\\nA.\\n Software Configuration management is a process of tracking and controlling the changes in\\nsoftware in terms of the requirements, design, functions and development of the product.\\nQ.What is change control?\\nA.\\n Change control is function of configuration management, which ensures that all changes made\\nto software system are consistent and made as per organizational rules and regulations.' metadata={'source': '/Users/harshayarravarapu/Documents/GitHub/LLM/LLama_langchain/Llama_experiments/Llama2_on_cpu/software_engineering_interview_questions.pdf', 'page': 1}\n",
      "page_content='Q.How can you measure project execution?\\nA.\\n We can measure project execution by means of Activity Monitoring, Status Reports and\\nMilestone Checklists.\\nQ.Mention some project management tools.\\nA.\\n There are various project management tools \\nused as per the requirements of software project\\nand organization policies. \\nThey include Gantt Chart, PERT Chart, Resource Histogram, Critical Path\\nAnalysis, Status Reports, Milestone Checklists etc.\\nQ.What are software requirements?\\nA.\\n Software requirements are functional description of proposed software system. \\nRequirements\\nare assumed to be the description of target system, its functionalities and features. Requirements\\nconvey the expectations of users from the system.\\nQ.What is feasibility study?\\nA.\\n It is a measure to assess how practical and beneficial the software project development will be\\nfor an organization. The software analyzer conducts a thorough study to \\nunderstand economic,\\ntechnical and operational feasibility of the project.\\nEconomic \\n- Resource transportation, cost for training, cost of additional utilities and tools\\nand overall estimation of costs and benefits of the project.\\nTechnical \\n- Is it possible to develop this system ? Assessing suitability of machine\\ns\\n and\\noperating system\\ns\\n on which software will execute, existing developers’ knowledge and skills,\\ntraining, utilities or tools for project.\\nOperational \\n- Can the organization adjust smoothly to the changes done as per the demand\\nof project ? Is the problem worth solving ?\\nQ.How can you gather requirements?\\nA.\\n \\nRequirements can be gathered from users via interviews, surveys, task analysis, brainstorming,\\ndomain analysis, prototyping, studying existing usable version of software, and by observation.\\nQ.What is SRS?\\nA.\\n \\nSRS or Software Requirement Specification is a document produced at the time of requirement\\ngathering process. It can be also seen as a process of refining requirements and documenting\\nthem.\\nQ.What are functional requirements?\\nA.\\n Functional requirements are functional features and specifications expected by users from the\\nproposed software product.\\nQ.What are non-functional requirements?\\nA.\\n \\nNon-functional requirements are implicit and are related to security, performance, look and feel\\nof user interface, interoperability, cost etc.\\nQ.What is software measure?\\nA.\\n Software Measures can be understood as a process of quantifying and symbolizing various\\nattributes and aspects of software.\\nQ.What is software metric?\\nA.\\n Software Metrics provide measures for various aspects of software process and software\\nproduct. They are divided into –\\nRequirement metrics : Length requirements, completeness\\nProduct metrics :Lines of Code, Object oriented metrics, design and test metrics\\nProcess metrics: Evaluate and track budget, schedule, human resource.' metadata={'source': '/Users/harshayarravarapu/Documents/GitHub/LLM/LLama_langchain/Llama_experiments/Llama2_on_cpu/software_engineering_interview_questions.pdf', 'page': 2}\n",
      "page_content='Q.What is modularization?\\nA.\\n \\nModularization is a technique to divide a software system into multiple discreet modules, which\\nare expected to \\ncarry out task\\ns\\n independently.\\nQ.What is concurrency and how it is achieved in software?\\nA.\\n Concurrency is the tendency of events or actions to happen simultaneously. In software, when\\ntwo or more processes execute simultaneously, they are called concurrent processes.\\nExample\\nWhile you initiate print command and printing starts, you can open a new application.\\nConcurrency, \\nis implemented by splitting the software into multiple independent units of execution\\nnamely processes and threads, and \\nexecuting them in parallel.\\nQ.What is cohesion?\\nA.\\n Cohesion is a measure that defines the degree of intra-dependability among the elements of\\nthe module.\\nQ.What is coupling?\\nA.\\n Coupling is a measure that defines the level of inter-dependability among modules of a\\nprogram.\\nQ.Mentions some software analysis & design tools?\\nA.\\n These can be: DFDs \\nD\\na\\nt\\na\\nF\\nl\\no\\nw\\nD\\ni\\na\\ng\\nr\\na\\nm\\ns\\n, Structured Charts, Structured English, Data Dictionary,\\nHIPO \\nH\\ni\\ne\\nr\\na\\nr\\nc\\nh\\ni\\nc\\na\\nl\\nI\\nn\\np\\nu\\nt\\nP\\nr\\no\\nc\\ne\\ns\\ns\\nO\\nu\\nt\\np\\nu\\nt\\n diagrams, ER \\nE\\nn\\nt\\ni\\nt\\ny\\nR\\ne\\nl\\na\\nt\\ni\\no\\nn\\ns\\nh\\ni\\np\\n Diagrams and Decision tables.\\nQ.What is level-0 DFD?\\nA.\\n Highest abstraction level DFD is known as Level 0 DFD also called a context level DFD, which\\ndepicts the entire information system as one diagram concealing all the underlying details.\\nQ.What is the difference between structured English and Pseudo Code?\\nA.\\n Structured English is native English language used to write the structure of a program module\\nby using programming language keywords, whereas, Pseudo Code is more close to programming\\nlanguage and uses native English language words or sentences to write parts of code.\\nQ.What is data dictionary?\\nA.\\n Data dictionary \\nis referred to as meta-data. Meaning, it is a repository of data about data. Data\\ndictionary is \\nused to organize the names and their references used in system such as objects and\\nfiles along with their naming conventions.\\nQ.What is structured design?\\nA.\\n Structured design is a conceptualization of problem into several well-organized elements of\\nsolution. It is concern with the solution design and based on ‘divide and conquer’ strategy.\\nQ.What is the difference between function oriented and object oriented design?\\nA.\\n Function-oriented design is comprised of many smaller sub-systems known as functions. \\nEach\\nfunction is capable of performing significant task in the system. Object oriented design works\\naround the real world objects \\ne\\nn\\nt\\ni\\nt\\ni\\ne\\ns\\n, their classes \\nc\\na\\nt\\ne\\ng\\no\\nr\\ni\\ne\\ns\\n and methods operating on objects \\nf\\nu\\nn\\nc\\nt\\ni\\no\\nn\\ns\\n.\\nQ.Briefly define top-down and bottom-up design model.\\nA.\\n Top-down model starts with generalized view of system and decomposes it to more specific\\nones, whereas bottom-up model starts with most specific and basic components first and keeps\\ncomposing the components to get higher level of abstraction.' metadata={'source': '/Users/harshayarravarapu/Documents/GitHub/LLM/LLama_langchain/Llama_experiments/Llama2_on_cpu/software_engineering_interview_questions.pdf', 'page': 3}\n",
      "page_content='Q.What is the basis of Halstead’s complexity measure?\\nA.\\n Halstead’s complexity measure depends up on the actual implementation of the program and it\\nconsiders tokens used in the program as basis of measure.\\nQ.Mention the formula to calculate Cyclomatic complexity of a program?\\nA.\\n Cyclomatic complexity uses graph theory’s formula: V\\nG\\n = e – n + 2\\nQ.What is functional programming?\\nA.\\n Functional programming is style of programming language, which uses the concepts of\\nmathematical function. \\nIt provides means of computation as mathematical functions, which\\nproduces results irrespective of program state.\\nQ.Differentiate validation and verification?\\nA.\\n Validation checks if the product is made as per user requirements whereas verification checks if\\nproper \\nsteps are followed to develop the product.\\nValidation confirms the right product and verification confirms if the product is built in a right way.\\nQ.What is black-box and white-box testing?\\nA.\\n \\nBlack-box testing checks if the desired outputs are produced when valid input values are given.\\nIt does not verify the actual implementation of the program.\\nWhite-box testing not only checks for desired and valid output when valid input is provided but also\\nit checks if the code is implemented correctly.\\nCriteria\\nBlack Box Testing\\nWhite Box Testing\\nKnowledge of software program, design and\\nstructure essential\\nNo\\nYes\\nKnowledge of Software Implementation\\nessential\\nNo\\nYes\\nWho conducts this test on software\\nSoftware Testing\\nEmployee\\nSoftware Developer\\nbaseline reference for tester\\nRequirements\\nspecifications\\nDesign and structure\\ndetails\\nQ.Quality assurance vs. Quality Control?\\nA.\\n Quality Assurance monitors to check if proper process is followed while software developing the\\nsoftware.\\nQuality Control deals with maintaining the quality of software product.\\nQ.What are various types of software maintenance?\\nA.\\n \\nMaintenance types are: corrective, adaptive, perfective and preventive.\\nCorrective\\nRemoving errors spotted by users\\nAdaptive\\ntackling the changes in the hardware and software environment where the software works\\nPerfective maintenance' metadata={'source': '/Users/harshayarravarapu/Documents/GitHub/LLM/LLama_langchain/Llama_experiments/Llama2_on_cpu/software_engineering_interview_questions.pdf', 'page': 4}\n",
      "page_content=\"implementing changes in existing or new requirements of user\\nPreventive maintenance\\ntaking appropriate measures to avoid future problems\\nQ.What is software re-engineering?\\nA.\\n Software re-engineering is process to upgrade the technology on which the software is built\\nwithout changing the functionality of the software. This is done in order to keep the software tuned\\nwith the latest technology.\\nQ.What are CASE tools?\\nA.\\n CASE stands for Computer Aided Software Engineering. CASE tools are set of automated\\nsoftware application programs, which are used to support, accelerate and smoothen the SDLC\\nactivities.\\nWhat is Next?\\nFurther, you can go through your past assignments you have done with the subject and make sure\\nyou are able to speak confidently on them. If you are fresher then interviewer does not expect you\\nwill answer very complex questions, rather you have to make your basics concepts very strong.\\nSecond it really doesn't matter much if you could not answer few questions but it matters that\\nwhatever you answered, you must have answered with confidence. So just feel confident during\\nyour interview. We at tutorialspoint wish you best luck to have a good interviewer and all the very\\nbest for your future endeavor. Cheers :-)\\nLoading [MathJax]/jax/output/HTML-CSS/jax.js\" metadata={'source': '/Users/harshayarravarapu/Documents/GitHub/LLM/LLama_langchain/Llama_experiments/Llama2_on_cpu/software_engineering_interview_questions.pdf', 'page': 5}\n"
     ]
    }
   ],
   "source": [
    "import os\n",
    "from langchain.document_loaders import DirectoryLoader, PyPDFLoader\n",
    "\n",
    "# Function to search for the PDF file\n",
    "def find_pdf_file(directory, filename):\n",
    "    for root, dirs, files in os.walk(directory):\n",
    "        if filename in files:\n",
    "            return os.path.join(root, filename)\n",
    "    return None\n",
    "\n",
    "# Define the directory to start searching and the filename\n",
    "start_directory = \"/Users/harshayarravarapu/Documents/GitHub/LLM/LLama_langchain/\"\n",
    "pdf_filename = \"software_engineering_interview_questions.pdf\"\n",
    "\n",
    "# Search for the PDF file\n",
    "pdf_path = find_pdf_file(start_directory, pdf_filename)\n",
    "\n",
    "if pdf_path:\n",
    "    print(f\"Found PDF file at: {pdf_path}\")\n",
    "\n",
    "    # Load the PDF using DirectoryLoader and PyPDFLoader\n",
    "    loader = DirectoryLoader(\n",
    "        os.path.dirname(pdf_path),\n",
    "        glob=os.path.basename(pdf_path),\n",
    "        loader_cls=PyPDFLoader\n",
    "    )\n",
    "\n",
    "    # Load the documents\n",
    "    documents = loader.load()\n",
    "\n",
    "    # Print the contents of the loaded documents\n",
    "    for doc in documents:\n",
    "        print(doc)\n",
    "else:\n",
    "    print(f\"PDF file '{pdf_filename}' not found in directory '{start_directory}'.\")\n"
   ]
  },
  {
   "cell_type": "code",
   "execution_count": 41,
   "metadata": {},
   "outputs": [],
   "source": [
    "\n",
    "documnets=loader.load()"
   ]
  },
  {
   "cell_type": "code",
   "execution_count": 42,
   "metadata": {},
   "outputs": [
    {
     "data": {
      "text/plain": [
       "[Document(page_content='http://www.tutorialspoint.com/software_engineering/software_engineering_interview_questions.htm\\nCopyright © tutorialspoint.com\\nSOFTWARE ENGINEERING INTERVIEW QUESTIONS\\nSOFTWARE ENGINEERING INTERVIEW QUESTIONS\\nDear readers, these \\nSoftware Engineering Interview Questions\\n have been designed\\nespecially to get you acquainted with the nature of questions you may encounter during your\\ninterview for the subject of \\nSoftware Engineering\\n. As per my experience, good interviewers\\nhardly planned to ask any particular question during your interview, normally questions start with\\nsome basic concept of the subject and later they continue based on further discussion and what\\nyou answer:\\nQ.What is computer software?\\nA.\\n Computer software is a complete package, which includes software program, its documentation\\nand user guide on how to use the software.\\nQ.Can you differentiate computer software and computer program?\\nA.\\n A computer program is piece of programming code which performs a well defined task where\\nas software includes programming code, its documentation and user guide.\\nQ.What is software engineering?\\nA.\\n Software engineering is an engineering branch associated with software system development.\\nQ.When you know programming, what is the need to learn software engineering\\nconcepts?\\nA.\\n A person who knows how to build a wall may not be good at building an entire house. \\nLikewise,\\na person who can write programs may not have knowledge of other concepts of Software\\nEngineering. \\nThe software engineering concepts guide programmers on how to assess\\nrequirements of end user, design the algorithms before actual coding starts, create programs by\\ncoding, testing the code and its documentation.\\nQ.What is software process or Software Development Life Cycle \\nS\\nD\\nL\\nC\\n?\\nA.\\nSoftware Development Life Cycle, or software process is the systematic development of\\nsoftware by following every stage in the development process namely, Requirement Gathering,\\nSystem Analysis, Design, Coding, Testing, Maintenance and Documentation in that order.\\nQ.What are SDLC models available?\\nA.\\n There are several SDLC models available such as Waterfall Model, Iterative Model, Spiral\\nmodel, V-model and Big-bang Model etc.\\nQ.What are various phases of SDLC?\\nA.\\n The generic phases of SDLC are: Requirement Gathering, System Analysis and Design, Coding,\\nTesting and implementation. The phases depend upon the model we choose to develop software.\\nQ.Which SDLC model is the best?\\nA.\\n SDLC Models are adopted as per requirements of development process. \\nIt may very software-\\nto-software to ensuring which model is suitable.\\nWe can select the best SDLC model if following answers are satisfied -\\nIs SDLC suitable for selected technology to implement the software ?\\nIs SDLC appropriate for client’s requirements and priorities ?\\nIs SDLC model suitable for size and complexity of the software ?\\nIs the SDLC model suitable for type of projects and engineering we do ?\\nIs the SDLC appropriate for the geographically co-located or dispersed developers ?', metadata={'source': '/Users/harshayarravarapu/Documents/GitHub/LLM/LLama_langchain/Llama_experiments/Llama2_on_cpu/software_engineering_interview_questions.pdf', 'page': 0}),\n",
       " Document(page_content='Q.What is software project management?\\nA.\\n Software project management is process of managing all activities like time, cost and quality\\nmanagement involved in software development.\\nQ.Who is software project manager?\\nA. \\nA software project manager is a person who undertakes the responsibility of carrying out the\\nsoftware project.\\nQ.What does software project manager do?\\nA. \\nSoftware project manager is engaged with software management activities. He is responsible\\nfor \\nproject planning, monitoring the progress, communication among stakeholders, managing\\nrisks and resources, smooth execution of development and delivering the project within time, cost\\nand quality contraints.\\nQ.What is software scope?\\nA.\\n \\nSoftware scope is a well-defined boundary, which encompasses all the activities that are done\\nto develop and deliver the software product.\\nThe software scope clearly defines all functionalities and artifacts to be delivered as a part of the\\nsoftware. The scope identifies what the product will do and what it will not do, what the end product\\nwill contain and what it will not contain.\\nQ.What is project estimation?\\nA.\\n It is a process to estimate various aspects of software product in order to calculate the cost of\\ndevelopment in terms of efforts, time and resources. This estimation can be derived from past\\nexperience, by consulting experts or by using pre-defined formulas.\\nQ.How can we derive the size of software product?\\nA.\\n \\nSize of software product can be calculated using either of two methods -\\nCounting the lines of delivered code\\nCounting delivered function points\\nQ.What are function points?\\nA.\\n \\nFunction points are the various features provided by the software product. \\nIt is considered as a\\nunit of measurement for software size.\\nQ.What are software project estimation techniques available?\\nA.\\n There are many estimation techniques available.The most widely used are -\\nDecomposition technique \\nC\\no\\nu\\nn\\nt\\ni\\nn\\ng\\nL\\ni\\nn\\ne\\ns\\no\\nf\\nC\\no\\nd\\ne\\na\\nn\\nd\\nF\\nu\\nn\\nc\\nt\\ni\\no\\nn\\nP\\no\\ni\\nn\\nt\\ns\\nEmpirical technique \\nP\\nu\\nt\\nn\\na\\nm\\na\\nn\\nd\\nC\\nO\\nC\\nO\\nM\\nO\\n.\\nQ.What is baseline?\\nA.\\n Baseline is a measurement that defines completeness of a phase. After all activities associated\\nwith a particular phase are \\naccomplished, the phase is complete and acts as a baseline for next\\nphase.\\nQ.What is Software configuration management?\\nA.\\n Software Configuration management is a process of tracking and controlling the changes in\\nsoftware in terms of the requirements, design, functions and development of the product.\\nQ.What is change control?\\nA.\\n Change control is function of configuration management, which ensures that all changes made\\nto software system are consistent and made as per organizational rules and regulations.', metadata={'source': '/Users/harshayarravarapu/Documents/GitHub/LLM/LLama_langchain/Llama_experiments/Llama2_on_cpu/software_engineering_interview_questions.pdf', 'page': 1}),\n",
       " Document(page_content='Q.How can you measure project execution?\\nA.\\n We can measure project execution by means of Activity Monitoring, Status Reports and\\nMilestone Checklists.\\nQ.Mention some project management tools.\\nA.\\n There are various project management tools \\nused as per the requirements of software project\\nand organization policies. \\nThey include Gantt Chart, PERT Chart, Resource Histogram, Critical Path\\nAnalysis, Status Reports, Milestone Checklists etc.\\nQ.What are software requirements?\\nA.\\n Software requirements are functional description of proposed software system. \\nRequirements\\nare assumed to be the description of target system, its functionalities and features. Requirements\\nconvey the expectations of users from the system.\\nQ.What is feasibility study?\\nA.\\n It is a measure to assess how practical and beneficial the software project development will be\\nfor an organization. The software analyzer conducts a thorough study to \\nunderstand economic,\\ntechnical and operational feasibility of the project.\\nEconomic \\n- Resource transportation, cost for training, cost of additional utilities and tools\\nand overall estimation of costs and benefits of the project.\\nTechnical \\n- Is it possible to develop this system ? Assessing suitability of machine\\ns\\n and\\noperating system\\ns\\n on which software will execute, existing developers’ knowledge and skills,\\ntraining, utilities or tools for project.\\nOperational \\n- Can the organization adjust smoothly to the changes done as per the demand\\nof project ? Is the problem worth solving ?\\nQ.How can you gather requirements?\\nA.\\n \\nRequirements can be gathered from users via interviews, surveys, task analysis, brainstorming,\\ndomain analysis, prototyping, studying existing usable version of software, and by observation.\\nQ.What is SRS?\\nA.\\n \\nSRS or Software Requirement Specification is a document produced at the time of requirement\\ngathering process. It can be also seen as a process of refining requirements and documenting\\nthem.\\nQ.What are functional requirements?\\nA.\\n Functional requirements are functional features and specifications expected by users from the\\nproposed software product.\\nQ.What are non-functional requirements?\\nA.\\n \\nNon-functional requirements are implicit and are related to security, performance, look and feel\\nof user interface, interoperability, cost etc.\\nQ.What is software measure?\\nA.\\n Software Measures can be understood as a process of quantifying and symbolizing various\\nattributes and aspects of software.\\nQ.What is software metric?\\nA.\\n Software Metrics provide measures for various aspects of software process and software\\nproduct. They are divided into –\\nRequirement metrics : Length requirements, completeness\\nProduct metrics :Lines of Code, Object oriented metrics, design and test metrics\\nProcess metrics: Evaluate and track budget, schedule, human resource.', metadata={'source': '/Users/harshayarravarapu/Documents/GitHub/LLM/LLama_langchain/Llama_experiments/Llama2_on_cpu/software_engineering_interview_questions.pdf', 'page': 2}),\n",
       " Document(page_content='Q.What is modularization?\\nA.\\n \\nModularization is a technique to divide a software system into multiple discreet modules, which\\nare expected to \\ncarry out task\\ns\\n independently.\\nQ.What is concurrency and how it is achieved in software?\\nA.\\n Concurrency is the tendency of events or actions to happen simultaneously. In software, when\\ntwo or more processes execute simultaneously, they are called concurrent processes.\\nExample\\nWhile you initiate print command and printing starts, you can open a new application.\\nConcurrency, \\nis implemented by splitting the software into multiple independent units of execution\\nnamely processes and threads, and \\nexecuting them in parallel.\\nQ.What is cohesion?\\nA.\\n Cohesion is a measure that defines the degree of intra-dependability among the elements of\\nthe module.\\nQ.What is coupling?\\nA.\\n Coupling is a measure that defines the level of inter-dependability among modules of a\\nprogram.\\nQ.Mentions some software analysis & design tools?\\nA.\\n These can be: DFDs \\nD\\na\\nt\\na\\nF\\nl\\no\\nw\\nD\\ni\\na\\ng\\nr\\na\\nm\\ns\\n, Structured Charts, Structured English, Data Dictionary,\\nHIPO \\nH\\ni\\ne\\nr\\na\\nr\\nc\\nh\\ni\\nc\\na\\nl\\nI\\nn\\np\\nu\\nt\\nP\\nr\\no\\nc\\ne\\ns\\ns\\nO\\nu\\nt\\np\\nu\\nt\\n diagrams, ER \\nE\\nn\\nt\\ni\\nt\\ny\\nR\\ne\\nl\\na\\nt\\ni\\no\\nn\\ns\\nh\\ni\\np\\n Diagrams and Decision tables.\\nQ.What is level-0 DFD?\\nA.\\n Highest abstraction level DFD is known as Level 0 DFD also called a context level DFD, which\\ndepicts the entire information system as one diagram concealing all the underlying details.\\nQ.What is the difference between structured English and Pseudo Code?\\nA.\\n Structured English is native English language used to write the structure of a program module\\nby using programming language keywords, whereas, Pseudo Code is more close to programming\\nlanguage and uses native English language words or sentences to write parts of code.\\nQ.What is data dictionary?\\nA.\\n Data dictionary \\nis referred to as meta-data. Meaning, it is a repository of data about data. Data\\ndictionary is \\nused to organize the names and their references used in system such as objects and\\nfiles along with their naming conventions.\\nQ.What is structured design?\\nA.\\n Structured design is a conceptualization of problem into several well-organized elements of\\nsolution. It is concern with the solution design and based on ‘divide and conquer’ strategy.\\nQ.What is the difference between function oriented and object oriented design?\\nA.\\n Function-oriented design is comprised of many smaller sub-systems known as functions. \\nEach\\nfunction is capable of performing significant task in the system. Object oriented design works\\naround the real world objects \\ne\\nn\\nt\\ni\\nt\\ni\\ne\\ns\\n, their classes \\nc\\na\\nt\\ne\\ng\\no\\nr\\ni\\ne\\ns\\n and methods operating on objects \\nf\\nu\\nn\\nc\\nt\\ni\\no\\nn\\ns\\n.\\nQ.Briefly define top-down and bottom-up design model.\\nA.\\n Top-down model starts with generalized view of system and decomposes it to more specific\\nones, whereas bottom-up model starts with most specific and basic components first and keeps\\ncomposing the components to get higher level of abstraction.', metadata={'source': '/Users/harshayarravarapu/Documents/GitHub/LLM/LLama_langchain/Llama_experiments/Llama2_on_cpu/software_engineering_interview_questions.pdf', 'page': 3}),\n",
       " Document(page_content='Q.What is the basis of Halstead’s complexity measure?\\nA.\\n Halstead’s complexity measure depends up on the actual implementation of the program and it\\nconsiders tokens used in the program as basis of measure.\\nQ.Mention the formula to calculate Cyclomatic complexity of a program?\\nA.\\n Cyclomatic complexity uses graph theory’s formula: V\\nG\\n = e – n + 2\\nQ.What is functional programming?\\nA.\\n Functional programming is style of programming language, which uses the concepts of\\nmathematical function. \\nIt provides means of computation as mathematical functions, which\\nproduces results irrespective of program state.\\nQ.Differentiate validation and verification?\\nA.\\n Validation checks if the product is made as per user requirements whereas verification checks if\\nproper \\nsteps are followed to develop the product.\\nValidation confirms the right product and verification confirms if the product is built in a right way.\\nQ.What is black-box and white-box testing?\\nA.\\n \\nBlack-box testing checks if the desired outputs are produced when valid input values are given.\\nIt does not verify the actual implementation of the program.\\nWhite-box testing not only checks for desired and valid output when valid input is provided but also\\nit checks if the code is implemented correctly.\\nCriteria\\nBlack Box Testing\\nWhite Box Testing\\nKnowledge of software program, design and\\nstructure essential\\nNo\\nYes\\nKnowledge of Software Implementation\\nessential\\nNo\\nYes\\nWho conducts this test on software\\nSoftware Testing\\nEmployee\\nSoftware Developer\\nbaseline reference for tester\\nRequirements\\nspecifications\\nDesign and structure\\ndetails\\nQ.Quality assurance vs. Quality Control?\\nA.\\n Quality Assurance monitors to check if proper process is followed while software developing the\\nsoftware.\\nQuality Control deals with maintaining the quality of software product.\\nQ.What are various types of software maintenance?\\nA.\\n \\nMaintenance types are: corrective, adaptive, perfective and preventive.\\nCorrective\\nRemoving errors spotted by users\\nAdaptive\\ntackling the changes in the hardware and software environment where the software works\\nPerfective maintenance', metadata={'source': '/Users/harshayarravarapu/Documents/GitHub/LLM/LLama_langchain/Llama_experiments/Llama2_on_cpu/software_engineering_interview_questions.pdf', 'page': 4}),\n",
       " Document(page_content=\"implementing changes in existing or new requirements of user\\nPreventive maintenance\\ntaking appropriate measures to avoid future problems\\nQ.What is software re-engineering?\\nA.\\n Software re-engineering is process to upgrade the technology on which the software is built\\nwithout changing the functionality of the software. This is done in order to keep the software tuned\\nwith the latest technology.\\nQ.What are CASE tools?\\nA.\\n CASE stands for Computer Aided Software Engineering. CASE tools are set of automated\\nsoftware application programs, which are used to support, accelerate and smoothen the SDLC\\nactivities.\\nWhat is Next?\\nFurther, you can go through your past assignments you have done with the subject and make sure\\nyou are able to speak confidently on them. If you are fresher then interviewer does not expect you\\nwill answer very complex questions, rather you have to make your basics concepts very strong.\\nSecond it really doesn't matter much if you could not answer few questions but it matters that\\nwhatever you answered, you must have answered with confidence. So just feel confident during\\nyour interview. We at tutorialspoint wish you best luck to have a good interviewer and all the very\\nbest for your future endeavor. Cheers :-)\\nLoading [MathJax]/jax/output/HTML-CSS/jax.js\", metadata={'source': '/Users/harshayarravarapu/Documents/GitHub/LLM/LLama_langchain/Llama_experiments/Llama2_on_cpu/software_engineering_interview_questions.pdf', 'page': 5})]"
      ]
     },
     "execution_count": 42,
     "metadata": {},
     "output_type": "execute_result"
    }
   ],
   "source": [
    "documnets"
   ]
  },
  {
   "cell_type": "code",
   "execution_count": 43,
   "metadata": {},
   "outputs": [],
   "source": [
    "text_splitter=RecursiveCharacterTextSplitter(chunk_size=500,\n",
    "                                             chunk_overlap=20)\n",
    "text_chunks=text_splitter.split_documents(documnets)"
   ]
  },
  {
   "cell_type": "code",
   "execution_count": 44,
   "metadata": {},
   "outputs": [
    {
     "name": "stderr",
     "output_type": "stream",
     "text": [
      "/Users/harshayarravarapu/Library/Python/3.9/lib/python/site-packages/langchain_core/_api/deprecation.py:119: LangChainDeprecationWarning: The class `HuggingFaceEmbeddings` was deprecated in LangChain 0.2.2 and will be removed in 0.3.0. An updated version of the class exists in the langchain-huggingface package and should be used instead. To use it run `pip install -U langchain-huggingface` and import as `from langchain_huggingface import HuggingFaceEmbeddings`.\n",
      "  warn_deprecated(\n",
      "[2024-06-11 13:50:33,812]:Load pretrained SentenceTransformer: sentence-transformers/all-MiniLM-l6-v2:\n"
     ]
    },
    {
     "data": {
      "application/vnd.jupyter.widget-view+json": {
       "model_id": "1048c3a9e00744159765e32f0d06c10a",
       "version_major": 2,
       "version_minor": 0
      },
      "text/plain": [
       "modules.json:   0%|          | 0.00/349 [00:00<?, ?B/s]"
      ]
     },
     "metadata": {},
     "output_type": "display_data"
    },
    {
     "data": {
      "application/vnd.jupyter.widget-view+json": {
       "model_id": "f1103fa0f6d84a41a6925fc8bfc08ec9",
       "version_major": 2,
       "version_minor": 0
      },
      "text/plain": [
       "config_sentence_transformers.json:   0%|          | 0.00/116 [00:00<?, ?B/s]"
      ]
     },
     "metadata": {},
     "output_type": "display_data"
    },
    {
     "data": {
      "application/vnd.jupyter.widget-view+json": {
       "model_id": "427b978f864c4f06b216aae35f0253f3",
       "version_major": 2,
       "version_minor": 0
      },
      "text/plain": [
       "README.md:   0%|          | 0.00/10.7k [00:00<?, ?B/s]"
      ]
     },
     "metadata": {},
     "output_type": "display_data"
    },
    {
     "data": {
      "application/vnd.jupyter.widget-view+json": {
       "model_id": "b65bf5e1f1754662807767a2946fcfe2",
       "version_major": 2,
       "version_minor": 0
      },
      "text/plain": [
       "sentence_bert_config.json:   0%|          | 0.00/53.0 [00:00<?, ?B/s]"
      ]
     },
     "metadata": {},
     "output_type": "display_data"
    },
    {
     "data": {
      "application/vnd.jupyter.widget-view+json": {
       "model_id": "c6fa282fd5fe4ad0a3d90130bcf58c4a",
       "version_major": 2,
       "version_minor": 0
      },
      "text/plain": [
       "config.json:   0%|          | 0.00/612 [00:00<?, ?B/s]"
      ]
     },
     "metadata": {},
     "output_type": "display_data"
    },
    {
     "data": {
      "application/vnd.jupyter.widget-view+json": {
       "model_id": "36353942fcb94bba81b3074977c249a5",
       "version_major": 2,
       "version_minor": 0
      },
      "text/plain": [
       "model.safetensors:   0%|          | 0.00/90.9M [00:00<?, ?B/s]"
      ]
     },
     "metadata": {},
     "output_type": "display_data"
    },
    {
     "data": {
      "application/vnd.jupyter.widget-view+json": {
       "model_id": "5aa2e957b04546839ab035a4b1eab3e1",
       "version_major": 2,
       "version_minor": 0
      },
      "text/plain": [
       "tokenizer_config.json:   0%|          | 0.00/350 [00:00<?, ?B/s]"
      ]
     },
     "metadata": {},
     "output_type": "display_data"
    },
    {
     "data": {
      "application/vnd.jupyter.widget-view+json": {
       "model_id": "d66baa92de2e4c759ed82fc6979f2194",
       "version_major": 2,
       "version_minor": 0
      },
      "text/plain": [
       "vocab.txt:   0%|          | 0.00/232k [00:00<?, ?B/s]"
      ]
     },
     "metadata": {},
     "output_type": "display_data"
    },
    {
     "data": {
      "application/vnd.jupyter.widget-view+json": {
       "model_id": "f91af325903b4d81acc522d77c15c856",
       "version_major": 2,
       "version_minor": 0
      },
      "text/plain": [
       "tokenizer.json:   0%|          | 0.00/466k [00:00<?, ?B/s]"
      ]
     },
     "metadata": {},
     "output_type": "display_data"
    },
    {
     "data": {
      "application/vnd.jupyter.widget-view+json": {
       "model_id": "50fade25169d4e92a0c1429c823423c2",
       "version_major": 2,
       "version_minor": 0
      },
      "text/plain": [
       "special_tokens_map.json:   0%|          | 0.00/112 [00:00<?, ?B/s]"
      ]
     },
     "metadata": {},
     "output_type": "display_data"
    },
    {
     "data": {
      "application/vnd.jupyter.widget-view+json": {
       "model_id": "3b58592b299644fea6bc88ae604121e6",
       "version_major": 2,
       "version_minor": 0
      },
      "text/plain": [
       "1_Pooling/config.json:   0%|          | 0.00/190 [00:00<?, ?B/s]"
      ]
     },
     "metadata": {},
     "output_type": "display_data"
    }
   ],
   "source": [
    "embeddings=HuggingFaceEmbeddings(model_name=\"sentence-transformers/all-MiniLM-l6-v2\",\n",
    "                                 model_kwargs={\"device\":\"cpu\"})"
   ]
  },
  {
   "cell_type": "code",
   "execution_count": 45,
   "metadata": {},
   "outputs": [
    {
     "name": "stderr",
     "output_type": "stream",
     "text": [
      "[2024-06-11 13:50:46,816]:Loading faiss.:\n",
      "[2024-06-11 13:50:47,373]:Successfully loaded faiss.:\n"
     ]
    }
   ],
   "source": [
    "vector_store=FAISS.from_documents(text_chunks,embeddings)"
   ]
  },
  {
   "cell_type": "code",
   "execution_count": 46,
   "metadata": {},
   "outputs": [
    {
     "data": {
      "application/vnd.jupyter.widget-view+json": {
       "model_id": "b80c1f6e71ea4a68943dfba156825f5b",
       "version_major": 2,
       "version_minor": 0
      },
      "text/plain": [
       "Fetching 1 files:   0%|          | 0/1 [00:00<?, ?it/s]"
      ]
     },
     "metadata": {},
     "output_type": "display_data"
    },
    {
     "data": {
      "application/vnd.jupyter.widget-view+json": {
       "model_id": "07b6c0b0469c4d03ac8d96a67a1db7ac",
       "version_major": 2,
       "version_minor": 0
      },
      "text/plain": [
       "Fetching 1 files:   0%|          | 0/1 [00:00<?, ?it/s]"
      ]
     },
     "metadata": {},
     "output_type": "display_data"
    }
   ],
   "source": [
    "llm=CTransformers(model= \"TheBloke/Llama-2-7B-Chat-GGUF\",\n",
    "                  model_type=\"llama\",\n",
    "                  config={\"max_new_tokens\":128,\n",
    "                          \"temperature\":0.01}\n",
    "                  )"
   ]
  },
  {
   "cell_type": "code",
   "execution_count": 47,
   "metadata": {},
   "outputs": [],
   "source": [
    "template=\"\"\"Use the following peices of information to answer the user's question.\n",
    "if you dont know the answer just say you dont know,dont try to make up an answer.\n",
    "Context:{context}\n",
    "Question:{question}\n",
    "Only return the helpful answer below and nothing else\n",
    "Helpful answer\n",
    "\"\"\"\n",
    "     "
   ]
  },
  {
   "cell_type": "code",
   "execution_count": 48,
   "metadata": {},
   "outputs": [],
   "source": [
    "qa_prompt=PromptTemplate(template=template, input_variables=[\"context\",\"question\"])"
   ]
  },
  {
   "cell_type": "code",
   "execution_count": 49,
   "metadata": {},
   "outputs": [],
   "source": [
    "chain=RetrievalQA.from_chain_type(llm=llm,\n",
    "                                  chain_type=\"stuff\",\n",
    "                                  retriever=vector_store.as_retriever(search_kwargs={\"k\":2}),\n",
    "                                  return_source_documents=False,\n",
    "                                  chain_type_kwargs={\"prompt\":qa_prompt})"
   ]
  },
  {
   "cell_type": "code",
   "execution_count": 50,
   "metadata": {},
   "outputs": [],
   "source": [
    "\n",
    "user_input=\"What is Software development life cycle\""
   ]
  },
  {
   "cell_type": "code",
   "execution_count": 51,
   "metadata": {},
   "outputs": [
    {
     "name": "stderr",
     "output_type": "stream",
     "text": [
      "/Users/harshayarravarapu/Library/Python/3.9/lib/python/site-packages/langchain_core/_api/deprecation.py:119: LangChainDeprecationWarning: The method `Chain.__call__` was deprecated in langchain 0.1.0 and will be removed in 0.3.0. Use invoke instead.\n",
      "  warn_deprecated(\n"
     ]
    },
    {
     "name": "stdout",
     "output_type": "stream",
     "text": [
      "answer: Software Development Life Cycle (SDLC) refers to the process of developing, designing, implementing, testing, and delivering software products. It includes various phases such as planning, analysis, design, implementation, testing, and maintenance. The SDLC provides a systematic approach to software development, ensuring that all aspects of the project are properly considered and managed.\n",
      "Software scope refers to the set of functionalities and artifacts that are delivered as part of a software development project. It defines the boundaries of what is included in the project and what is not. The software scope is typically defined at the beginning of the project\n"
     ]
    }
   ],
   "source": [
    "\n",
    "result = chain({\"query\": user_input})\n",
    "print(f\"answer: {result['result']}\")"
   ]
  },
  {
   "cell_type": "code",
   "execution_count": 52,
   "metadata": {},
   "outputs": [],
   "source": [
    "@app.route('/', methods=[\"GET\", \"POST\"])\n",
    "def index():\n",
    "    return render_template('index.html')"
   ]
  },
  {
   "cell_type": "code",
   "execution_count": 53,
   "metadata": {},
   "outputs": [],
   "source": [
    "@app.route('/chatbot', methods=[\"GET\", \"POST\"])\n",
    "def chatbotResponse():\n",
    "    if request.method == 'POST':\n",
    "        user_input = request.form['question']\n",
    "        print(user_input)\n",
    "\n",
    "        # Replace the following line with your actual chatbot logic\n",
    "        result = {'result': 'Hello, world!'}\n",
    "\n",
    "        print(f\"Answer:{result['result']}\")\n",
    "\n",
    "    return jsonify({\"response\": str(result['result']) })"
   ]
  },
  {
   "cell_type": "code",
   "execution_count": 54,
   "metadata": {},
   "outputs": [
    {
     "name": "stdout",
     "output_type": "stream",
     "text": [
      " * Serving Flask app '__main__'\n",
      " * Debug mode: on\n"
     ]
    },
    {
     "name": "stderr",
     "output_type": "stream",
     "text": [
      "[2024-06-11 14:29:40,126]:\u001b[31m\u001b[1mWARNING: This is a development server. Do not use it in a production deployment. Use a production WSGI server instead.\u001b[0m\n",
      " * Running on all addresses (0.0.0.0)\n",
      " * Running on http://127.0.0.1:8081\n",
      " * Running on http://10.155.62.123:8081:\n",
      "[2024-06-11 14:29:40,127]:\u001b[33mPress CTRL+C to quit\u001b[0m:\n"
     ]
    },
    {
     "ename": "ImportError",
     "evalue": "cannot import name 'EVENT_TYPE_OPENED' from 'watchdog.events' (/Users/harshayarravarapu/Library/Python/3.9/lib/python/site-packages/watchdog/events.py)",
     "output_type": "error",
     "traceback": [
      "\u001b[0;31m---------------------------------------------------------------------------\u001b[0m",
      "\u001b[0;31mImportError\u001b[0m                               Traceback (most recent call last)",
      "\u001b[1;32m/Users/harshayarravarapu/Documents/GitHub/LLM/LLama_langchain/Llama_experiments/Llama2_on_cpu/Llama2_on_cpu.ipynb Cell 43\u001b[0m line \u001b[0;36m2\n\u001b[1;32m      <a href='vscode-notebook-cell:/Users/harshayarravarapu/Documents/GitHub/LLM/LLama_langchain/Llama_experiments/Llama2_on_cpu/Llama2_on_cpu.ipynb#X55sZmlsZQ%3D%3D?line=0'>1</a>\u001b[0m \u001b[39mif\u001b[39;00m \u001b[39m__name__\u001b[39m \u001b[39m==\u001b[39m \u001b[39m'\u001b[39m\u001b[39m__main__\u001b[39m\u001b[39m'\u001b[39m:\n\u001b[0;32m----> <a href='vscode-notebook-cell:/Users/harshayarravarapu/Documents/GitHub/LLM/LLama_langchain/Llama_experiments/Llama2_on_cpu/Llama2_on_cpu.ipynb#X55sZmlsZQ%3D%3D?line=1'>2</a>\u001b[0m     app\u001b[39m.\u001b[39;49mrun(host\u001b[39m=\u001b[39;49m\u001b[39m'\u001b[39;49m\u001b[39m0.0.0.0\u001b[39;49m\u001b[39m'\u001b[39;49m, port\u001b[39m=\u001b[39;49m \u001b[39m8081\u001b[39;49m,debug\u001b[39m=\u001b[39;49m\u001b[39mTrue\u001b[39;49;00m)\n",
      "File \u001b[0;32m~/Library/Python/3.9/lib/python/site-packages/flask/app.py:625\u001b[0m, in \u001b[0;36mFlask.run\u001b[0;34m(self, host, port, debug, load_dotenv, **options)\u001b[0m\n\u001b[1;32m    622\u001b[0m \u001b[39mfrom\u001b[39;00m \u001b[39mwerkzeug\u001b[39;00m\u001b[39m.\u001b[39;00m\u001b[39mserving\u001b[39;00m \u001b[39mimport\u001b[39;00m run_simple\n\u001b[1;32m    624\u001b[0m \u001b[39mtry\u001b[39;00m:\n\u001b[0;32m--> 625\u001b[0m     run_simple(t\u001b[39m.\u001b[39;49mcast(\u001b[39mstr\u001b[39;49m, host), port, \u001b[39mself\u001b[39;49m, \u001b[39m*\u001b[39;49m\u001b[39m*\u001b[39;49moptions)\n\u001b[1;32m    626\u001b[0m \u001b[39mfinally\u001b[39;00m:\n\u001b[1;32m    627\u001b[0m     \u001b[39m# reset the first request information if the development server\u001b[39;00m\n\u001b[1;32m    628\u001b[0m     \u001b[39m# reset normally.  This makes it possible to restart the server\u001b[39;00m\n\u001b[1;32m    629\u001b[0m     \u001b[39m# without reloader and that stuff from an interactive shell.\u001b[39;00m\n\u001b[1;32m    630\u001b[0m     \u001b[39mself\u001b[39m\u001b[39m.\u001b[39m_got_first_request \u001b[39m=\u001b[39m \u001b[39mFalse\u001b[39;00m\n",
      "File \u001b[0;32m~/Library/Python/3.9/lib/python/site-packages/werkzeug/serving.py:1106\u001b[0m, in \u001b[0;36mrun_simple\u001b[0;34m(hostname, port, application, use_reloader, use_debugger, use_evalex, extra_files, exclude_patterns, reloader_interval, reloader_type, threaded, processes, request_handler, static_files, passthrough_errors, ssl_context)\u001b[0m\n\u001b[1;32m   1103\u001b[0m \u001b[39mfrom\u001b[39;00m \u001b[39m.\u001b[39;00m\u001b[39m_reloader\u001b[39;00m \u001b[39mimport\u001b[39;00m run_with_reloader\n\u001b[1;32m   1105\u001b[0m \u001b[39mtry\u001b[39;00m:\n\u001b[0;32m-> 1106\u001b[0m     run_with_reloader(\n\u001b[1;32m   1107\u001b[0m         srv\u001b[39m.\u001b[39;49mserve_forever,\n\u001b[1;32m   1108\u001b[0m         extra_files\u001b[39m=\u001b[39;49mextra_files,\n\u001b[1;32m   1109\u001b[0m         exclude_patterns\u001b[39m=\u001b[39;49mexclude_patterns,\n\u001b[1;32m   1110\u001b[0m         interval\u001b[39m=\u001b[39;49mreloader_interval,\n\u001b[1;32m   1111\u001b[0m         reloader_type\u001b[39m=\u001b[39;49mreloader_type,\n\u001b[1;32m   1112\u001b[0m     )\n\u001b[1;32m   1113\u001b[0m \u001b[39mfinally\u001b[39;00m:\n\u001b[1;32m   1114\u001b[0m     srv\u001b[39m.\u001b[39mserver_close()\n",
      "File \u001b[0;32m~/Library/Python/3.9/lib/python/site-packages/werkzeug/_reloader.py:442\u001b[0m, in \u001b[0;36mrun_with_reloader\u001b[0;34m(main_func, extra_files, exclude_patterns, interval, reloader_type)\u001b[0m\n\u001b[1;32m    439\u001b[0m \u001b[39mimport\u001b[39;00m \u001b[39msignal\u001b[39;00m\n\u001b[1;32m    441\u001b[0m signal\u001b[39m.\u001b[39msignal(signal\u001b[39m.\u001b[39mSIGTERM, \u001b[39mlambda\u001b[39;00m \u001b[39m*\u001b[39margs: sys\u001b[39m.\u001b[39mexit(\u001b[39m0\u001b[39m))\n\u001b[0;32m--> 442\u001b[0m reloader \u001b[39m=\u001b[39m reloader_loops[reloader_type](\n\u001b[1;32m    443\u001b[0m     extra_files\u001b[39m=\u001b[39;49mextra_files, exclude_patterns\u001b[39m=\u001b[39;49mexclude_patterns, interval\u001b[39m=\u001b[39;49minterval\n\u001b[1;32m    444\u001b[0m )\n\u001b[1;32m    446\u001b[0m \u001b[39mtry\u001b[39;00m:\n\u001b[1;32m    447\u001b[0m     \u001b[39mif\u001b[39;00m os\u001b[39m.\u001b[39menviron\u001b[39m.\u001b[39mget(\u001b[39m\"\u001b[39m\u001b[39mWERKZEUG_RUN_MAIN\u001b[39m\u001b[39m\"\u001b[39m) \u001b[39m==\u001b[39m \u001b[39m\"\u001b[39m\u001b[39mtrue\u001b[39m\u001b[39m\"\u001b[39m:\n",
      "File \u001b[0;32m~/Library/Python/3.9/lib/python/site-packages/werkzeug/_reloader.py:315\u001b[0m, in \u001b[0;36mWatchdogReloaderLoop.__init__\u001b[0;34m(self, *args, **kwargs)\u001b[0m\n\u001b[1;32m    314\u001b[0m \u001b[39mdef\u001b[39;00m \u001b[39m__init__\u001b[39m(\u001b[39mself\u001b[39m, \u001b[39m*\u001b[39margs: t\u001b[39m.\u001b[39mAny, \u001b[39m*\u001b[39m\u001b[39m*\u001b[39mkwargs: t\u001b[39m.\u001b[39mAny) \u001b[39m-\u001b[39m\u001b[39m>\u001b[39m \u001b[39mNone\u001b[39;00m:\n\u001b[0;32m--> 315\u001b[0m     \u001b[39mfrom\u001b[39;00m \u001b[39mwatchdog\u001b[39;00m\u001b[39m.\u001b[39;00m\u001b[39mevents\u001b[39;00m \u001b[39mimport\u001b[39;00m EVENT_TYPE_OPENED\n\u001b[1;32m    316\u001b[0m     \u001b[39mfrom\u001b[39;00m \u001b[39mwatchdog\u001b[39;00m\u001b[39m.\u001b[39;00m\u001b[39mevents\u001b[39;00m \u001b[39mimport\u001b[39;00m FileModifiedEvent\n\u001b[1;32m    317\u001b[0m     \u001b[39mfrom\u001b[39;00m \u001b[39mwatchdog\u001b[39;00m\u001b[39m.\u001b[39;00m\u001b[39mevents\u001b[39;00m \u001b[39mimport\u001b[39;00m PatternMatchingEventHandler\n",
      "\u001b[0;31mImportError\u001b[0m: cannot import name 'EVENT_TYPE_OPENED' from 'watchdog.events' (/Users/harshayarravarapu/Library/Python/3.9/lib/python/site-packages/watchdog/events.py)"
     ]
    }
   ],
   "source": [
    "\n",
    "if __name__ == '__main__':\n",
    "    app.run(host='0.0.0.0', port= 8081,debug=True)"
   ]
  },
  {
   "cell_type": "code",
   "execution_count": null,
   "metadata": {},
   "outputs": [],
   "source": []
  },
  {
   "cell_type": "code",
   "execution_count": null,
   "metadata": {},
   "outputs": [],
   "source": []
  },
  {
   "cell_type": "code",
   "execution_count": null,
   "metadata": {},
   "outputs": [],
   "source": []
  },
  {
   "cell_type": "code",
   "execution_count": null,
   "metadata": {},
   "outputs": [],
   "source": []
  }
 ],
 "metadata": {
  "kernelspec": {
   "display_name": "Python 3.10 (tensorflow)",
   "language": "python",
   "name": "tensorflow"
  },
  "language_info": {
   "codemirror_mode": {
    "name": "ipython",
    "version": 3
   },
   "file_extension": ".py",
   "mimetype": "text/x-python",
   "name": "python",
   "nbconvert_exporter": "python",
   "pygments_lexer": "ipython3",
   "version": "3.9.6"
  },
  "orig_nbformat": 4
 },
 "nbformat": 4,
 "nbformat_minor": 2
}
