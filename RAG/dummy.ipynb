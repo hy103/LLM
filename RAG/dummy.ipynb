{
 "cells": [
  {
   "cell_type": "code",
   "execution_count": null,
   "metadata": {},
   "outputs": [],
   "source": [
    "a = [[1.5, 2.5], [3.0, 4.0]]\n",
    "b = [2, 1]"
   ]
  },
  {
   "cell_type": "code",
   "execution_count": null,
   "metadata": {},
   "outputs": [],
   "source": [
    "\n",
    "import numpy as np\n",
    "b = np.array(b)\n",
    "a = np.array(a)\n",
    "if b.ndim == 1:\n",
    "    b = b.reshape(1,-1)\n",
    "b_t = b.T"
   ]
  },
  {
   "cell_type": "code",
   "execution_count": null,
   "metadata": {},
   "outputs": [],
   "source": [
    "a_row, a_col = a.shape[0], a.shape[1]\n",
    "\n",
    "b_row, b_col = b_t.shape[0], b_t.shape[1]\n",
    "\n",
    "if a_col != b_row:\n",
    "    print(-1)"
   ]
  },
  {
   "cell_type": "code",
   "execution_count": null,
   "metadata": {},
   "outputs": [],
   "source": [
    "print(np.matmul(a,b_t).tolist())"
   ]
  },
  {
   "cell_type": "code",
   "execution_count": null,
   "metadata": {},
   "outputs": [],
   "source": [
    "res_mat = [[0]*b_col for _ in range(a_row)]\n",
    "\n",
    "for row in range(a_row):\n",
    "    for col in range(b_col):\n",
    "        "
   ]
  },
  {
   "cell_type": "code",
   "execution_count": null,
   "metadata": {},
   "outputs": [],
   "source": [
    "res_mat = [[0]*b_col for _ in range(a_row)]"
   ]
  },
  {
   "cell_type": "code",
   "execution_count": null,
   "metadata": {},
   "outputs": [],
   "source": [
    "res_mat"
   ]
  },
  {
   "cell_type": "code",
   "execution_count": null,
   "metadata": {},
   "outputs": [],
   "source": [
    "a = [1, 2, 3], [4, 5, 6]\n",
    "\n"
   ]
  },
  {
   "cell_type": "code",
   "execution_count": null,
   "metadata": {},
   "outputs": [],
   "source": [
    "[row for row in zip(*a)]"
   ]
  },
  {
   "cell_type": "code",
   "execution_count": null,
   "metadata": {},
   "outputs": [],
   "source": [
    "matrix = [[2, 1], [1, 2]]\n",
    "A = np.array(matrix)\n",
    "eigenvalues, eigenvectors = np.linalg.eig(A)"
   ]
  },
  {
   "cell_type": "code",
   "execution_count": null,
   "metadata": {},
   "outputs": [],
   "source": [
    "eigenvalues"
   ]
  },
  {
   "cell_type": "code",
   "execution_count": null,
   "metadata": {},
   "outputs": [],
   "source": [
    "from sympy import symbols, Matrix\n",
    "\n",
    "lam = symbols('λ')\n",
    "id_matrix = lam*id_matrix"
   ]
  },
  {
   "cell_type": "code",
   "execution_count": null,
   "metadata": {},
   "outputs": [],
   "source": [
    "diff_matrix = matrix-id_matrix"
   ]
  },
  {
   "cell_type": "code",
   "execution_count": null,
   "metadata": {},
   "outputs": [],
   "source": [
    "diff_matrix"
   ]
  },
  {
   "cell_type": "code",
   "execution_count": null,
   "metadata": {},
   "outputs": [],
   "source": [
    "A = [[1, 2], [3, 4]]\n",
    "T = [[2, 0], [0, 2]]\n",
    "S = [[1, 1], [0, 1]]\n",
    "\n",
    "A = np.array(A)\n",
    "T = np.array(T)\n",
    "S = np.array(S)\n",
    "t_inv = np.linalg.inv(T)\n",
    "\n",
    "t_a = np.matmul(t_inv, A)\n",
    "print(np.matmul(t_a, S))"
   ]
  },
  {
   "cell_type": "code",
   "execution_count": null,
   "metadata": {},
   "outputs": [],
   "source": [
    "matrix = [[4, 7], [2, 6]]\n",
    "a,b = matrix[0]\n",
    "c,d = matrix[1]\n",
    "\n",
    "det = a*d-b*c\n",
    "\n",
    "result = [[d/det, -c/det], [-b/det, a/det]]"
   ]
  },
  {
   "cell_type": "code",
   "execution_count": null,
   "metadata": {},
   "outputs": [],
   "source": [
    "result"
   ]
  },
  {
   "cell_type": "code",
   "execution_count": null,
   "metadata": {},
   "outputs": [],
   "source": [
    "A = [[5, -2, 3], [-3, 9, 1], [2, -1, -7]]\n",
    "b = [-1, 2, 3]\n",
    "n=2\n",
    "n = len(A)\n",
    "x = [0.0] * n  \n",
    "\n",
    "for _ in range(n):\n",
    "    x_new = x.copy()\n",
    "    for i in range(n):\n",
    "        s = sum(A[i][j] * x[j] for j in range(n) if j != i)\n",
    "        x_new[i] = round((b[i] - s) / A[i][i], 4)\n",
    "    x = x_new"
   ]
  },
  {
   "cell_type": "code",
   "execution_count": null,
   "metadata": {},
   "outputs": [],
   "source": [
    "x"
   ]
  },
  {
   "cell_type": "code",
   "execution_count": 189,
   "metadata": {},
   "outputs": [],
   "source": [
    "X = [[1, 1], [1, 2], [1, 3]]\n",
    "y = [1, 2, 3]\n",
    "X = np.array(X)\n",
    "y = np.array(y)\n",
    "y = y.reshape(-1,1)\n",
    "W = np.random.rand(X.shape[1], 1)\n",
    "lr =0.1\n",
    "\n"
   ]
  },
  {
   "cell_type": "code",
   "execution_count": 190,
   "metadata": {},
   "outputs": [
    {
     "data": {
      "text/plain": [
       "array([[2.96466352e-04],\n",
       "       [9.99869584e-01]])"
      ]
     },
     "execution_count": 190,
     "metadata": {},
     "output_type": "execute_result"
    }
   ],
   "source": [
    "for i in range(200):\n",
    "    pred = np.matmul(X,W)\n",
    "    x_t = X.T\n",
    "    derivative = (np.matmul(x_t, pred-y))\n",
    "    #print(derivative.shape)\n",
    "    W = W - lr*(derivative)\n",
    "    \n",
    "\n",
    "W\n"
   ]
  },
  {
   "cell_type": "code",
   "execution_count": 191,
   "metadata": {},
   "outputs": [
    {
     "name": "stdout",
     "output_type": "stream",
     "text": [
      "[[0.]\n",
      " [1.]]\n"
     ]
    }
   ],
   "source": [
    "print(np.round(W, 2))"
   ]
  },
  {
   "cell_type": "code",
   "execution_count": 167,
   "metadata": {},
   "outputs": [
    {
     "data": {
      "text/plain": [
       "(1, 4)"
      ]
     },
     "execution_count": 167,
     "metadata": {},
     "output_type": "execute_result"
    }
   ],
   "source": [
    "a = y.reshape(-1,4)\n",
    "a.shape"
   ]
  },
  {
   "cell_type": "code",
   "execution_count": 192,
   "metadata": {},
   "outputs": [
    {
     "name": "stdout",
     "output_type": "stream",
     "text": [
      "1.9999999999999998\n"
     ]
    }
   ],
   "source": [
    "num = 0.2\n",
    "nums_list = [num]*10\n",
    "\n",
    "print(sum(nums_list))"
   ]
  },
  {
   "cell_type": "code",
   "execution_count": 194,
   "metadata": {},
   "outputs": [
    {
     "name": "stdout",
     "output_type": "stream",
     "text": [
      "2.0\n"
     ]
    }
   ],
   "source": [
    "import numpy as np\n",
    "print(numpy.sum(nums_list))"
   ]
  },
  {
   "cell_type": "code",
   "execution_count": 195,
   "metadata": {},
   "outputs": [
    {
     "data": {
      "text/plain": [
       "0.816496580927726"
      ]
     },
     "execution_count": 195,
     "metadata": {},
     "output_type": "execute_result"
    }
   ],
   "source": [
    "np.sqrt(2/3)"
   ]
  },
  {
   "cell_type": "code",
   "execution_count": 196,
   "metadata": {},
   "outputs": [
    {
     "data": {
      "text/plain": [
       "1.632993161855452"
      ]
     },
     "execution_count": 196,
     "metadata": {},
     "output_type": "execute_result"
    }
   ],
   "source": [
    "0.816496580927726*2"
   ]
  },
  {
   "cell_type": "code",
   "execution_count": 206,
   "metadata": {},
   "outputs": [
    {
     "data": {
      "text/plain": [
       "array([[1, 2]])"
      ]
     },
     "execution_count": 206,
     "metadata": {},
     "output_type": "execute_result"
    }
   ],
   "source": [
    "data = np.array([[1, 2], [3, 4], [5, 6]])\n",
    "data[:][:1]"
   ]
  },
  {
   "cell_type": "code",
   "execution_count": 211,
   "metadata": {},
   "outputs": [],
   "source": [
    "col1 = data[:, 0]\n",
    "col2 = data[:, 1]"
   ]
  },
  {
   "cell_type": "code",
   "execution_count": 213,
   "metadata": {},
   "outputs": [
    {
     "data": {
      "text/plain": [
       "array([2, 4, 6])"
      ]
     },
     "execution_count": 213,
     "metadata": {},
     "output_type": "execute_result"
    }
   ],
   "source": [
    "col2"
   ]
  },
  {
   "cell_type": "code",
   "execution_count": 214,
   "metadata": {},
   "outputs": [],
   "source": [
    "col1_mean, col2_mean = np.mean(col1), np.mean(col2)\n",
    "col1_std, col2_std = np.std(col1), np.std(col2)\n",
    "n = data.shape[0]\n",
    "\n",
    "col1_min, col2_min = np.min(col1), np.min(col2)\n",
    "col1_maxx, col2_max = np.max(col1), np.max(col2)"
   ]
  },
  {
   "cell_type": "code",
   "execution_count": 233,
   "metadata": {},
   "outputs": [],
   "source": [
    "a1,b1 = (col1-col1_min)/(col1_maxx-col1_min), (col2-col2_min)/(col2_max-col2_min)\n",
    "a1,b1 = a1.reshape(-1,1), b1.reshape(-1,1)\n",
    "standardized_data = np.concatenate((a1,b1), axis =1)"
   ]
  },
  {
   "cell_type": "code",
   "execution_count": 234,
   "metadata": {},
   "outputs": [
    {
     "data": {
      "text/plain": [
       "array([[0. , 0. ],\n",
       "       [0.5, 0.5],\n",
       "       [1. , 1. ]])"
      ]
     },
     "execution_count": 234,
     "metadata": {},
     "output_type": "execute_result"
    }
   ],
   "source": [
    "c1,d1 = (col1-col1_mean)/(col1_std), (col2-col2_mean)/(col2_std)\n",
    "c1,d1 = c1.reshape(-1,1), d1.reshape(-1,1)\n",
    "standardized_data = np.concatenate((c1,d1), axis =1)"
   ]
  },
  {
   "cell_type": "code",
   "execution_count": 231,
   "metadata": {},
   "outputs": [
    {
     "data": {
      "text/plain": [
       "(3,)"
      ]
     },
     "execution_count": 231,
     "metadata": {},
     "output_type": "execute_result"
    }
   ],
   "source": [
    "b1.shape"
   ]
  },
  {
   "cell_type": "code",
   "execution_count": 237,
   "metadata": {},
   "outputs": [
    {
     "name": "stdout",
     "output_type": "stream",
     "text": [
      "[[-0.67722681 -0.01262626  0.23415978]\n",
      " [-0.01836547  0.05050505 -0.02754821]\n",
      " [ 0.5731558  -0.03451178 -0.05693297]]\n"
     ]
    }
   ],
   "source": [
    "B = [[1, 0, 0], \n",
    "             [0, 1, 0], \n",
    "             [0, 0, 1]]\n",
    "C = [[1, 2.3, 3], \n",
    "             [4.4, 25, 6], \n",
    "             [7.4, 8, 9]]\n",
    "\n",
    "c = np.array(C)\n",
    "print(np.linalg.inv(c))"
   ]
  },
  {
   "cell_type": "code",
   "execution_count": 241,
   "metadata": {},
   "outputs": [],
   "source": [
    "data = np.array([[1, 2], [3, 4], [5, 6]])\n",
    "k = 1\n",
    "X_mean = data-np.mean(data, axis =0)\n",
    "cov_matrix = np.cov(X_mean, rowvar = False)\n",
    "eigenvalues, eigenvectors = np.linalg.eigh(cov_matrix)\n",
    "sorted_indices = np.argsort(eigenvalues)[::-1]\n",
    "eigenvalues = eigenvalues[sorted_indices]\n",
    "eigenvectors = eigenvectors[:, sorted_indices]\n",
    "eigen_subvectors = eigenvectors[:, :2]\n",
    "principal_components = np.dot(X_mean, eigen_subvectors)\n",
    "\n"
   ]
  },
  {
   "cell_type": "code",
   "execution_count": 240,
   "metadata": {},
   "outputs": [
    {
     "data": {
      "text/plain": [
       "array([8., 0.])"
      ]
     },
     "execution_count": 240,
     "metadata": {},
     "output_type": "execute_result"
    }
   ],
   "source": [
    "sorted_indices"
   ]
  },
  {
   "cell_type": "code",
   "execution_count": 242,
   "metadata": {},
   "outputs": [
    {
     "data": {
      "text/plain": [
       "array([[-2.82842712,  0.        ],\n",
       "       [ 0.        ,  0.        ],\n",
       "       [ 2.82842712,  0.        ]])"
      ]
     },
     "execution_count": 242,
     "metadata": {},
     "output_type": "execute_result"
    }
   ],
   "source": [
    "principal_components"
   ]
  },
  {
   "cell_type": "code",
   "execution_count": 243,
   "metadata": {},
   "outputs": [
    {
     "data": {
      "text/plain": [
       "array([[ 0.70710678, -0.70710678],\n",
       "       [ 0.70710678,  0.70710678]])"
      ]
     },
     "execution_count": 243,
     "metadata": {},
     "output_type": "execute_result"
    }
   ],
   "source": [
    "eigen_subvectors"
   ]
  },
  {
   "cell_type": "code",
   "execution_count": 252,
   "metadata": {},
   "outputs": [],
   "source": [
    "features = [[1.0, 2.0], [2.0, 1.0], [-1.0, -2.0]]\n",
    "labels = [1, 0, 0]\n",
    "initial_weights = [0.1, -0.2]\n",
    "initial_bias = 0.0\n",
    "learning_rate = 0.1\n",
    "epochs = 2\n",
    "\n",
    "import numpy as np\n",
    "\n",
    "def sigmoid_fn(x):\n",
    "    return 1 / (1 + np.exp(-x))\n",
    "\n",
    "def sigmoid_derivative(x):\n",
    "    sig = sigmoid_fn(x)\n",
    "    return sig * (1 - sig)\n",
    "\n",
    "def train_single_neuron(features, labels, initial_weights, initial_bias, learning_rate, epochs):\n",
    "    features = np.array(features)\n",
    "    labels = np.array(labels)\n",
    "    weights = np.array(initial_weights, dtype=np.float64)\n",
    "    bias = float(initial_bias)\n",
    "    mse_values = []\n",
    "\n",
    "    for epoch in range(epochs):\n",
    "        # Forward pass\n",
    "        linear_output = np.dot(features, weights) + bias\n",
    "        predictions = sigmoid_fn(linear_output)\n",
    "\n",
    "        # Error and MSE\n",
    "        error = labels - predictions\n",
    "        mse = np.mean(error ** 2)\n",
    "        mse_values.append(round(mse, 4))\n",
    "\n",
    "        # Gradients\n",
    "        d_pred = error * sigmoid_derivative(linear_output)  # shape: (n_samples,)\n",
    "        weights_grad = np.dot(features.T, d_pred) / len(features)  # shape: (n_features,)\n",
    "        bias_grad = np.mean(d_pred)\n",
    "\n",
    "        # Update\n",
    "        weights += learning_rate * weights_grad\n",
    "        bias += learning_rate * bias_grad\n",
    "\n",
    "    updated_weights = [round(w, 4) for w in weights]\n",
    "    updated_bias = round(bias, 4)\n",
    "\n",
    "    return updated_weights, updated_bias, mse_values\n"
   ]
  },
  {
   "cell_type": "code",
   "execution_count": 256,
   "metadata": {},
   "outputs": [
    {
     "name": "stdout",
     "output_type": "stream",
     "text": [
      "Updated weights: [-2.3346, 2.8813]\n",
      "Updated bias: -0.8117\n"
     ]
    }
   ],
   "source": [
    "features = [[1.0, 2.0], [2.0, 1.0], [-1.0, -2.0]]\n",
    "labels = [1, 0, 0]\n",
    "initial_weights = [0.1, -0.2]\n",
    "initial_bias = 0.0\n",
    "learning_rate = 0.1\n",
    "epochs = 4000\n",
    "\n",
    "updated_weights, updated_bias, mse_values = train_single_neuron(\n",
    "    features, labels, initial_weights, initial_bias, learning_rate, epochs\n",
    ")\n",
    "\n",
    "print(\"Updated weights:\", updated_weights)\n",
    "print(\"Updated bias:\", updated_bias)\n",
    "#print(\"MSE per epoch:\", mse_values)\n"
   ]
  },
  {
   "cell_type": "code",
   "execution_count": 257,
   "metadata": {},
   "outputs": [],
   "source": [
    "class Value:\n",
    "\tdef __init__(self, data, _children=(), _op=''):\n",
    "\t\tself.data = data\n",
    "\t\tself.grad = 0\n",
    "\t\tself._backward = lambda: None\n",
    "\t\tself._prev = set(_children)\n",
    "\t\tself._op = _op\n",
    "\tdef __repr__(self):\n",
    "\t\treturn f\"Value(data={self.data}, grad={self.grad})\"\n",
    "\n",
    "\tdef __add__(self, other):\n",
    "\t\t # Implement addition here\n",
    "\t\tpass\n",
    "\n",
    "\tdef __mul__(self, other):\n",
    "\t\t# Implement multiplication here\n",
    "\t\tpass\n",
    "\n",
    "\tdef relu(self):\n",
    "\t\t# Implement ReLU here\n",
    "\t\tpass\n",
    "\n",
    "\tdef backward(self):\n",
    "\t\t# Implement backward pass here\n",
    "\t\tpass"
   ]
  },
  {
   "cell_type": "code",
   "execution_count": 258,
   "metadata": {},
   "outputs": [],
   "source": [
    "A = [[-10, 8], \n",
    "         [10, -1]]\n",
    "A = np.array(A)\n",
    "u,s,v = np.linalg.svd(A)"
   ]
  },
  {
   "cell_type": "code",
   "execution_count": 259,
   "metadata": {},
   "outputs": [
    {
     "data": {
      "text/plain": [
       "(array([[-0.8,  0.6],\n",
       "        [ 0.6,  0.8]]),\n",
       " array([15.65247584,  4.47213595]),\n",
       " array([[ 0.89442719, -0.4472136 ],\n",
       "        [ 0.4472136 ,  0.89442719]]))"
      ]
     },
     "execution_count": 259,
     "metadata": {},
     "output_type": "execute_result"
    }
   ],
   "source": [
    "u,s,v"
   ]
  },
  {
   "cell_type": "code",
   "execution_count": 266,
   "metadata": {},
   "outputs": [],
   "source": [
    "X = np.array([[1, 2], \n",
    "                  [3, 4], \n",
    "                  [5, 6], \n",
    "                  [7, 8]])\n",
    "y = np.array([1, 2, 3, 4])\n",
    "\n",
    "seed = np.random.seed(42)\n",
    "rand_indices = np.random.randint(1, X.shape[0])"
   ]
  },
  {
   "cell_type": "code",
   "execution_count": 293,
   "metadata": {},
   "outputs": [],
   "source": [
    "X = np.array([[1, 2], \n",
    "                  [3, 4], \n",
    "                  [5, 6], \n",
    "                  [7, 8], \n",
    "                  [9, 10]])\n",
    "y = np.array([1, 2, 3, 4, 5])\n",
    "batch_size = 2\n",
    "#batch_iterator(X, y, batch_size)"
   ]
  },
  {
   "cell_type": "code",
   "execution_count": 294,
   "metadata": {},
   "outputs": [],
   "source": [
    "#y = y.reshape(-1,1)"
   ]
  },
  {
   "cell_type": "code",
   "execution_count": 295,
   "metadata": {},
   "outputs": [
    {
     "data": {
      "text/plain": [
       "((5, 2), (5,))"
      ]
     },
     "execution_count": 295,
     "metadata": {},
     "output_type": "execute_result"
    }
   ],
   "source": [
    "X.shape, y.shape"
   ]
  },
  {
   "cell_type": "code",
   "execution_count": 296,
   "metadata": {},
   "outputs": [
    {
     "ename": "ValueError",
     "evalue": "all the input arrays must have same number of dimensions, but the array at index 0 has 2 dimension(s) and the array at index 1 has 1 dimension(s)",
     "output_type": "error",
     "traceback": [
      "\u001b[0;31m---------------------------------------------------------------------------\u001b[0m",
      "\u001b[0;31mValueError\u001b[0m                                Traceback (most recent call last)",
      "\u001b[1;32m/Users/harshayarravarapu/Documents/GitHub/LLM/RAG/dummy.ipynb Cell 49\u001b[0m line \u001b[0;36m1\n\u001b[0;32m----> <a href='vscode-notebook-cell:/Users/harshayarravarapu/Documents/GitHub/LLM/RAG/dummy.ipynb#X66sZmlsZQ%3D%3D?line=0'>1</a>\u001b[0m sample \u001b[39m=\u001b[39m np\u001b[39m.\u001b[39;49mconcatenate((X, y), axis \u001b[39m=\u001b[39;49m \u001b[39m1\u001b[39;49m)\n",
      "\u001b[0;31mValueError\u001b[0m: all the input arrays must have same number of dimensions, but the array at index 0 has 2 dimension(s) and the array at index 1 has 1 dimension(s)"
     ]
    }
   ],
   "source": [
    "sample = np.concatenate((X, y), axis = 1)"
   ]
  },
  {
   "cell_type": "code",
   "execution_count": 297,
   "metadata": {},
   "outputs": [],
   "source": [
    "result = []\n",
    "for i in range(0, X.shape[0], batch_size):  # step by batch_size\n",
    "    X_batch = X[i:i+batch_size].tolist()\n",
    "    y_batch = y[i:i+batch_size].tolist()\n",
    "    result.append([X_batch, y_batch])"
   ]
  },
  {
   "cell_type": "code",
   "execution_count": 298,
   "metadata": {},
   "outputs": [
    {
     "data": {
      "text/plain": [
       "[[[[1, 2], [3, 4]], [1, 2]], [[[5, 6], [7, 8]], [3, 4]], [[[9, 10]], [5]]]"
      ]
     },
     "execution_count": 298,
     "metadata": {},
     "output_type": "execute_result"
    }
   ],
   "source": [
    "result"
   ]
  },
  {
   "cell_type": "code",
   "execution_count": 288,
   "metadata": {},
   "outputs": [
    {
     "data": {
      "text/plain": [
       "array([[1],\n",
       "       [2]])"
      ]
     },
     "execution_count": 288,
     "metadata": {},
     "output_type": "execute_result"
    }
   ],
   "source": [
    "y[0:batch_size]"
   ]
  },
  {
   "cell_type": "code",
   "execution_count": 289,
   "metadata": {},
   "outputs": [
    {
     "data": {
      "text/plain": [
       "array([[1],\n",
       "       [2],\n",
       "       [3],\n",
       "       [4],\n",
       "       [5]])"
      ]
     },
     "execution_count": 289,
     "metadata": {},
     "output_type": "execute_result"
    }
   ],
   "source": [
    "y"
   ]
  },
  {
   "cell_type": "code",
   "execution_count": 308,
   "metadata": {},
   "outputs": [
    {
     "name": "stdout",
     "output_type": "stream",
     "text": [
      "[[ 5  6]\n",
      " [ 7  8]\n",
      " [ 9 10]]\n"
     ]
    }
   ],
   "source": [
    "X = np.array([[1, 2], \n",
    "                  [3, 4], \n",
    "                  [5, 6], \n",
    "                  [7, 8], \n",
    "                  [9, 10]])\n",
    "feature_i = 0\n",
    "threshold = 5\n",
    "\n",
    "print(X[X[:, feature_i] >= threshold])"
   ]
  },
  {
   "cell_type": "code",
   "execution_count": 326,
   "metadata": {},
   "outputs": [
    {
     "name": "stdout",
     "output_type": "stream",
     "text": [
      "Index : 0 and x : 0, 6 and y : 1, 4\n",
      "Max index is 1\n",
      "K ; 2\n",
      "result list is [2, -1, -1, -1, -1]\n",
      "Index : 1 and x : 0, 6 and y : 3, 5\n",
      "Max index is 3\n",
      "K ; 4\n",
      "K ; 5\n",
      "result list is [2, 5, -1, -1, -1]\n",
      "Index : 2 and x : 2, 8 and y : 4, 2\n",
      "Max index is 4\n",
      "K ; 5\n",
      "Index : 3 and x : 3, 5 and y : 4, 2\n",
      "Max index is 4\n",
      "K ; 5\n",
      "result list is [2, 5, -1, 5, -1]\n",
      "Index : 4 and x : 2, 8 and y : 2, 8\n"
     ]
    }
   ],
   "source": [
    "queries = [[0,1],[0,3],[2,4],[3,4],[2,2]]\n",
    "\n",
    "\n",
    "heights = [6,4,8,5,2,7]\n",
    "size_h = len(heights)\n",
    "n = len(queries)\n",
    "result = [-1]*n\n",
    "\n",
    "for i, (x,y) in enumerate(queries):\n",
    "    print(f\"Index : {i} and x : {x}, {heights[x]} and y : {y}, {heights[y]}\")\n",
    "    if heights[x] == heights[y]:\n",
    "        result[i] = x \n",
    "    elif (x<y) and  heights[x] < heights[y]:\n",
    "        result[i] = y\n",
    "    elif (x>y) or heights[x] > heights[y]:\n",
    "        max_index = max(x,y)\n",
    "        print(f\"Max index is {max_index}\")\n",
    "        for k in range(max_index+1, size_h):\n",
    "            print(f\"K ; {k}\")\n",
    "            if (heights[k] > heights[x]) and (heights[k] > heights[y]):\n",
    "                result[i] = k\n",
    "                print(f\"result list is {result}\")\n",
    "                break\n",
    "    else:\n",
    "        pass"
   ]
  },
  {
   "cell_type": "code",
   "execution_count": 328,
   "metadata": {},
   "outputs": [
    {
     "name": "stdout",
     "output_type": "stream",
     "text": [
      "Index : 0 and x : 0, 5 and y : 7, 6\n",
      "Index : 1 and x : 3, 2 and y : 5, 1\n",
      "Max index is 5\n",
      "K ; 6\n",
      "result list is [7, 6, -1, -1, -1]\n",
      "Index : 2 and x : 5, 1 and y : 2, 8\n",
      "Max index is 5\n",
      "K ; 6\n",
      "K ; 7\n",
      "Index : 3 and x : 3, 2 and y : 0, 5\n",
      "Max index is 3\n",
      "K ; 4\n",
      "result list is [7, 6, -1, 4, -1]\n",
      "Index : 4 and x : 1, 3 and y : 6, 4\n"
     ]
    }
   ],
   "source": [
    "heights = [5,3,8,2,6,1,4,6]\n",
    "queries = [[0,7],[3,5],[5,2],[3,0],[1,6]]\n",
    "size_h = len(heights)\n",
    "n = len(queries)\n",
    "result = [-1]*n\n",
    "\n",
    "for i, (x,y) in enumerate(queries):\n",
    "    print(f\"Index : {i} and x : {x}, {heights[x]} and y : {y}, {heights[y]}\")\n",
    "    if heights[x] == heights[y]:\n",
    "        result[i] = x \n",
    "    elif (x<y) and  heights[x] < heights[y]:\n",
    "        result[i] = y\n",
    "    elif (x>y) or heights[x] > heights[y]:\n",
    "        max_index = max(x,y)\n",
    "        print(f\"Max index is {max_index}\")\n",
    "        for k in range(max_index+1, size_h):\n",
    "            print(f\"K ; {k}\")\n",
    "            if (heights[k] > heights[x]) and (heights[k] > heights[y]):\n",
    "                result[i] = k\n",
    "                print(f\"result list is {result}\")\n",
    "                break\n",
    "    else:\n",
    "        pass"
   ]
  },
  {
   "cell_type": "code",
   "execution_count": 329,
   "metadata": {},
   "outputs": [
    {
     "data": {
      "text/plain": [
       "[7, 6, -1, 4, 6]"
      ]
     },
     "execution_count": 329,
     "metadata": {},
     "output_type": "execute_result"
    }
   ],
   "source": [
    "result"
   ]
  },
  {
   "cell_type": "code",
   "execution_count": null,
   "metadata": {},
   "outputs": [],
   "source": []
  }
 ],
 "metadata": {
  "kernelspec": {
   "display_name": "Python 3.10 (tensorflow)",
   "language": "python",
   "name": "tensorflow"
  },
  "language_info": {
   "codemirror_mode": {
    "name": "ipython",
    "version": 3
   },
   "file_extension": ".py",
   "mimetype": "text/x-python",
   "name": "python",
   "nbconvert_exporter": "python",
   "pygments_lexer": "ipython3",
   "version": "3.9.6"
  },
  "orig_nbformat": 4
 },
 "nbformat": 4,
 "nbformat_minor": 2
}
